{
 "cells": [
  {
   "cell_type": "code",
   "execution_count": 3,
   "metadata": {
    "id": "K_nZla3kmtuu"
   },
   "outputs": [],
   "source": [
    "import pandas as pd\n",
    "import tensorflow as tf\n",
    "from tensorflow.keras.layers import Dense, Dropout, Activation, Flatten, Conv2D, MaxPooling2D\n",
    "from tensorflow.keras import datasets, layers, models\n",
    "import matplotlib.pyplot as plt\n",
    "import numpy as np\n",
    "from tensorflow.keras.models import Sequential\n",
    "from tensorflow.keras.layers import LSTM\n",
    "from tensorflow.keras.layers import Dense\n",
    "from tensorflow.keras.layers import Flatten"
   ]
  },
  {
   "cell_type": "code",
   "execution_count": 1,
   "metadata": {
    "id": "DIFQa4vEysh5"
   },
   "outputs": [],
   "source": [
    "import pandas_datareader as pdr\n",
    "key=\"\""
   ]
  },
  {
   "cell_type": "code",
   "execution_count": 4,
   "metadata": {
    "id": "wEoQr1EJpDm6"
   },
   "outputs": [],
   "source": [
    "df =pd.read_csv(open(\"/content/clean_final_data.csv\", \"rb\"))"
   ]
  },
  {
   "cell_type": "code",
   "execution_count": 5,
   "metadata": {
    "colab": {
     "base_uri": "https://localhost:8080/",
     "height": 240
    },
    "id": "VesKeShSqR7W",
    "outputId": "0a5a89b8-a929-4e0d-e3cc-b34455c7d755"
   },
   "outputs": [
    {
     "data": {
      "text/html": [
       "<div>\n",
       "<style scoped>\n",
       "    .dataframe tbody tr th:only-of-type {\n",
       "        vertical-align: middle;\n",
       "    }\n",
       "\n",
       "    .dataframe tbody tr th {\n",
       "        vertical-align: top;\n",
       "    }\n",
       "\n",
       "    .dataframe thead th {\n",
       "        text-align: right;\n",
       "    }\n",
       "</style>\n",
       "<table border=\"1\" class=\"dataframe\">\n",
       "  <thead>\n",
       "    <tr style=\"text-align: right;\">\n",
       "      <th></th>\n",
       "      <th>Unnamed: 0</th>\n",
       "      <th>open</th>\n",
       "      <th>high</th>\n",
       "      <th>low</th>\n",
       "      <th>close</th>\n",
       "      <th>volume</th>\n",
       "      <th>date_parsed</th>\n",
       "      <th>cont_len</th>\n",
       "      <th>cont_pol</th>\n",
       "      <th>cont_sent</th>\n",
       "      <th>date_year</th>\n",
       "      <th>date_month</th>\n",
       "      <th>date_day</th>\n",
       "      <th>sent_neg</th>\n",
       "      <th>sent_neu</th>\n",
       "      <th>sent_pos</th>\n",
       "      <th>target_variable</th>\n",
       "    </tr>\n",
       "  </thead>\n",
       "  <tbody>\n",
       "    <tr>\n",
       "      <th>0</th>\n",
       "      <td>0</td>\n",
       "      <td>1358.98</td>\n",
       "      <td>1374.71</td>\n",
       "      <td>1358.98</td>\n",
       "      <td>1368.70</td>\n",
       "      <td>593003200.0</td>\n",
       "      <td>2012-04-11</td>\n",
       "      <td>108.142857</td>\n",
       "      <td>0.01</td>\n",
       "      <td>Positive</td>\n",
       "      <td>2012</td>\n",
       "      <td>4</td>\n",
       "      <td>11</td>\n",
       "      <td>0</td>\n",
       "      <td>0</td>\n",
       "      <td>1</td>\n",
       "      <td>0</td>\n",
       "    </tr>\n",
       "    <tr>\n",
       "      <th>1</th>\n",
       "      <td>1</td>\n",
       "      <td>1368.77</td>\n",
       "      <td>1388.13</td>\n",
       "      <td>1368.77</td>\n",
       "      <td>1387.56</td>\n",
       "      <td>547368832.0</td>\n",
       "      <td>2012-04-12</td>\n",
       "      <td>75.000000</td>\n",
       "      <td>0.11</td>\n",
       "      <td>Positive</td>\n",
       "      <td>2012</td>\n",
       "      <td>4</td>\n",
       "      <td>12</td>\n",
       "      <td>0</td>\n",
       "      <td>0</td>\n",
       "      <td>1</td>\n",
       "      <td>1</td>\n",
       "    </tr>\n",
       "    <tr>\n",
       "      <th>2</th>\n",
       "      <td>2</td>\n",
       "      <td>1387.61</td>\n",
       "      <td>1387.61</td>\n",
       "      <td>1369.85</td>\n",
       "      <td>1370.26</td>\n",
       "      <td>631237824.0</td>\n",
       "      <td>2012-04-13</td>\n",
       "      <td>73.000000</td>\n",
       "      <td>0.00</td>\n",
       "      <td>Neutral</td>\n",
       "      <td>2012</td>\n",
       "      <td>4</td>\n",
       "      <td>13</td>\n",
       "      <td>0</td>\n",
       "      <td>1</td>\n",
       "      <td>0</td>\n",
       "      <td>0</td>\n",
       "    </tr>\n",
       "    <tr>\n",
       "      <th>3</th>\n",
       "      <td>3</td>\n",
       "      <td>1370.27</td>\n",
       "      <td>1379.66</td>\n",
       "      <td>1365.38</td>\n",
       "      <td>1369.57</td>\n",
       "      <td>596952128.0</td>\n",
       "      <td>2012-04-16</td>\n",
       "      <td>188.500000</td>\n",
       "      <td>0.13</td>\n",
       "      <td>Positive</td>\n",
       "      <td>2012</td>\n",
       "      <td>4</td>\n",
       "      <td>16</td>\n",
       "      <td>0</td>\n",
       "      <td>0</td>\n",
       "      <td>1</td>\n",
       "      <td>0</td>\n",
       "    </tr>\n",
       "    <tr>\n",
       "      <th>4</th>\n",
       "      <td>4</td>\n",
       "      <td>1369.57</td>\n",
       "      <td>1392.76</td>\n",
       "      <td>1369.57</td>\n",
       "      <td>1390.78</td>\n",
       "      <td>566529216.0</td>\n",
       "      <td>2012-04-17</td>\n",
       "      <td>235.529412</td>\n",
       "      <td>0.10</td>\n",
       "      <td>Positive</td>\n",
       "      <td>2012</td>\n",
       "      <td>4</td>\n",
       "      <td>17</td>\n",
       "      <td>0</td>\n",
       "      <td>0</td>\n",
       "      <td>1</td>\n",
       "      <td>1</td>\n",
       "    </tr>\n",
       "  </tbody>\n",
       "</table>\n",
       "</div>"
      ],
      "text/plain": [
       "   Unnamed: 0     open     high  ...  sent_neu  sent_pos  target_variable\n",
       "0           0  1358.98  1374.71  ...         0         1                0\n",
       "1           1  1368.77  1388.13  ...         0         1                1\n",
       "2           2  1387.61  1387.61  ...         1         0                0\n",
       "3           3  1370.27  1379.66  ...         0         1                0\n",
       "4           4  1369.57  1392.76  ...         0         1                1\n",
       "\n",
       "[5 rows x 17 columns]"
      ]
     },
     "execution_count": 5,
     "metadata": {},
     "output_type": "execute_result"
    }
   ],
   "source": [
    "df.head()"
   ]
  },
  {
   "cell_type": "code",
   "execution_count": 6,
   "metadata": {
    "id": "5GQWxqGWqR9s"
   },
   "outputs": [],
   "source": [
    "df1=df.reset_index()['close']"
   ]
  },
  {
   "cell_type": "code",
   "execution_count": null,
   "metadata": {
    "colab": {
     "base_uri": "https://localhost:8080/"
    },
    "id": "t1TH-2spqR_4",
    "outputId": "015e05df-5eb3-4425-d970-c46658c52a09"
   },
   "outputs": [
    {
     "data": {
      "text/plain": [
       "0       1368.70\n",
       "1       1387.56\n",
       "2       1370.26\n",
       "3       1369.57\n",
       "4       1390.78\n",
       "         ...   \n",
       "1632    2705.57\n",
       "1633    2658.69\n",
       "1634    2641.25\n",
       "1635    2682.63\n",
       "1636    2711.74\n",
       "Name: close, Length: 1637, dtype: float64"
      ]
     },
     "execution_count": 31,
     "metadata": {},
     "output_type": "execute_result"
    }
   ],
   "source": [
    "df1"
   ]
  },
  {
   "cell_type": "code",
   "execution_count": 7,
   "metadata": {
    "colab": {
     "base_uri": "https://localhost:8080/",
     "height": 285
    },
    "id": "xfQeVblFqSCZ",
    "outputId": "77357f70-f298-40a9-b1c4-02659af0d66f"
   },
   "outputs": [
    {
     "data": {
      "text/plain": [
       "[<matplotlib.lines.Line2D at 0x7f7996fc4190>]"
      ]
     },
     "execution_count": 7,
     "metadata": {},
     "output_type": "execute_result"
    },
    {
     "data": {
      "image/png": "[encoded data removed]",
      "text/plain": [
       "<Figure size 432x288 with 1 Axes>"
      ]
     },
     "metadata": {
      "needs_background": "light"
     },
     "output_type": "display_data"
    }
   ],
   "source": [
    "plt.plot(df1)"
   ]
  },
  {
   "cell_type": "code",
   "execution_count": 8,
   "metadata": {
    "id": "ywG1ObC0qSEu"
   },
   "outputs": [],
   "source": [
    "from sklearn.preprocessing import MinMaxScaler\n",
    "scaler=MinMaxScaler(feature_range=(0,1))\n",
    "df1=scaler.fit_transform(np.array(df1).reshape(-1,1))"
   ]
  },
  {
   "cell_type": "code",
   "execution_count": 9,
   "metadata": {
    "colab": {
     "base_uri": "https://localhost:8080/"
    },
    "id": "MQXZjXYQqSHf",
    "outputId": "fefb6ecb-3aef-48be-a135-d19b5acc4e88"
   },
   "outputs": [
    {
     "name": "stdout",
     "output_type": "stream",
     "text": [
      "[[0.05484964]\n",
      " [0.06626127]\n",
      " [0.05579355]\n",
      " ...\n",
      " [0.82483209]\n",
      " [0.84986991]\n",
      " [0.86748351]]\n"
     ]
    }
   ],
   "source": [
    "print(df1)"
   ]
  },
  {
   "cell_type": "code",
   "execution_count": 10,
   "metadata": {
    "id": "mpXlaDOiqSJy"
   },
   "outputs": [],
   "source": [
    "##splitting dataset into train and test split\n",
    "training_size=int(len(df1)*0.65)\n",
    "test_size=len(df1)-training_size\n",
    "train_data,test_data=df1[0:training_size,:],df1[training_size:len(df1),:1]"
   ]
  },
  {
   "cell_type": "code",
   "execution_count": 11,
   "metadata": {
    "colab": {
     "base_uri": "https://localhost:8080/"
    },
    "id": "DMG72SVrqSL-",
    "outputId": "7d3d2a4f-1c79-4e08-f17c-3e254bd5acca"
   },
   "outputs": [
    {
     "data": {
      "text/plain": [
       "(1064, 573)"
      ]
     },
     "execution_count": 11,
     "metadata": {},
     "output_type": "execute_result"
    }
   ],
   "source": [
    "training_size,test_size"
   ]
  },
  {
   "cell_type": "code",
   "execution_count": 12,
   "metadata": {
    "colab": {
     "base_uri": "https://localhost:8080/"
    },
    "id": "2jkqeU8enYRn",
    "outputId": "62c18d19-3bb6-44a2-c82d-335b7a5a9e28"
   },
   "outputs": [
    {
     "data": {
      "text/plain": [
       "array([[0.05484964],\n",
       "       [0.06626127],\n",
       "       [0.05579355],\n",
       "       ...,\n",
       "       [0.53677013],\n",
       "       [0.54273613],\n",
       "       [0.53877292]])"
      ]
     },
     "execution_count": 12,
     "metadata": {},
     "output_type": "execute_result"
    }
   ],
   "source": [
    "\n",
    "train_data"
   ]
  },
  {
   "cell_type": "code",
   "execution_count": 13,
   "metadata": {
    "id": "75vyWaFgnYUU"
   },
   "outputs": [],
   "source": [
    "import numpy\n",
    "# convert an array of values into a dataset matrix\n",
    "def create_dataset(dataset, time_step=1):\n",
    "\tdataX, dataY = [], []\n",
    "\tfor i in range(len(dataset)-time_step-1):\n",
    "\t\ta = dataset[i:(i+time_step), 0]   ###i=0, 0,1,2,3-----99   100 \n",
    "\t\tdataX.append(a)\n",
    "\t\tdataY.append(dataset[i + time_step, 0])\n",
    "\treturn numpy.array(dataX), numpy.array(dataY)"
   ]
  },
  {
   "cell_type": "code",
   "execution_count": 14,
   "metadata": {
    "id": "8sZDYkm5nYYO"
   },
   "outputs": [],
   "source": [
    "# reshape into X=t,t+1,t+2,t+3 and Y=t+4\n",
    "time_step = 100\n",
    "X_train, y_train = create_dataset(train_data, time_step)\n",
    "X_test, ytest = create_dataset(test_data, time_step)"
   ]
  },
  {
   "cell_type": "code",
   "execution_count": 15,
   "metadata": {
    "colab": {
     "base_uri": "https://localhost:8080/"
    },
    "id": "GguUna8wzWx-",
    "outputId": "141ad564-7722-413b-edf9-9ecc579a0448"
   },
   "outputs": [
    {
     "name": "stdout",
     "output_type": "stream",
     "text": [
      "(963, 100)\n",
      "(963,)\n"
     ]
    },
    {
     "data": {
      "text/plain": [
       "(None, None)"
      ]
     },
     "execution_count": 15,
     "metadata": {},
     "output_type": "execute_result"
    }
   ],
   "source": [
    "print(X_train.shape), print(y_train.shape)"
   ]
  },
  {
   "cell_type": "code",
   "execution_count": 16,
   "metadata": {
    "colab": {
     "base_uri": "https://localhost:8080/"
    },
    "id": "LDUNve5HzW02",
    "outputId": "52b75fe4-f5d6-4ac9-9166-d6694b5468c2"
   },
   "outputs": [
    {
     "name": "stdout",
     "output_type": "stream",
     "text": [
      "(472, 100)\n",
      "(472,)\n"
     ]
    },
    {
     "data": {
      "text/plain": [
       "(None, None)"
      ]
     },
     "execution_count": 16,
     "metadata": {},
     "output_type": "execute_result"
    }
   ],
   "source": [
    "print(X_test.shape), print(ytest.shape)\n"
   ]
  },
  {
   "cell_type": "code",
   "execution_count": 17,
   "metadata": {
    "id": "ffSHsHuTzW3c"
   },
   "outputs": [],
   "source": [
    "# reshape input to be [samples, time steps, features] which is required for LSTM\n",
    "X_train =X_train.reshape(X_train.shape[0],X_train.shape[1] , 1)\n",
    "X_test = X_test.reshape(X_test.shape[0],X_test.shape[1] , 1)"
   ]
  },
  {
   "cell_type": "code",
   "execution_count": 18,
   "metadata": {
    "id": "uJoqwd1KzW51"
   },
   "outputs": [],
   "source": [
    "### Create the Stacked LSTM model\n",
    "from tensorflow.keras.models import Sequential\n",
    "from tensorflow.keras.layers import Dense\n",
    "from tensorflow.keras.layers import LSTM"
   ]
  },
  {
   "cell_type": "code",
   "execution_count": 19,
   "metadata": {
    "colab": {
     "base_uri": "https://localhost:8080/"
    },
    "id": "Biadn8uEzW8D",
    "outputId": "1e1a34c3-85e5-4487-beac-8d857f0f2c4e"
   },
   "outputs": [
    {
     "name": "stdout",
     "output_type": "stream",
     "text": [
      "Model: \"sequential\"\n",
      "_________________________________________________________________\n",
      "Layer (type)                 Output Shape              Param #   \n",
      "=================================================================\n",
      "lstm (LSTM)                  (None, 100, 50)           10400     \n",
      "_________________________________________________________________\n",
      "lstm_1 (LSTM)                (None, 100, 50)           20200     \n",
      "_________________________________________________________________\n",
      "lstm_2 (LSTM)                (None, 50)                20200     \n",
      "_________________________________________________________________\n",
      "dense (Dense)                (None, 1)                 51        \n",
      "=================================================================\n",
      "Total params: 50,851\n",
      "Trainable params: 50,851\n",
      "Non-trainable params: 0\n",
      "_________________________________________________________________\n"
     ]
    }
   ],
   "source": [
    "model=Sequential()\n",
    "model.add(LSTM(50,return_sequences=True,input_shape=(100,1)))\n",
    "model.add(LSTM(50,return_sequences=True))\n",
    "model.add(LSTM(50))\n",
    "model.add(Dense(1))\n",
    "model.compile(loss='mean_squared_error',optimizer='adam')\n",
    "model.summary()"
   ]
  },
  {
   "cell_type": "code",
   "execution_count": 20,
   "metadata": {
    "colab": {
     "base_uri": "https://localhost:8080/"
    },
    "id": "KVQQASRLzW_I",
    "outputId": "ff3a1c3d-8509-4152-f091-7417e89eed3b"
   },
   "outputs": [
    {
     "name": "stdout",
     "output_type": "stream",
     "text": [
      "Model: \"sequential\"\n",
      "_________________________________________________________________\n",
      "Layer (type)                 Output Shape              Param #   \n",
      "=================================================================\n",
      "lstm (LSTM)                  (None, 100, 50)           10400     \n",
      "_________________________________________________________________\n",
      "lstm_1 (LSTM)                (None, 100, 50)           20200     \n",
      "_________________________________________________________________\n",
      "lstm_2 (LSTM)                (None, 50)                20200     \n",
      "_________________________________________________________________\n",
      "dense (Dense)                (None, 1)                 51        \n",
      "=================================================================\n",
      "Total params: 50,851\n",
      "Trainable params: 50,851\n",
      "Non-trainable params: 0\n",
      "_________________________________________________________________\n"
     ]
    }
   ],
   "source": [
    "\n",
    "model.summary()"
   ]
  },
  {
   "cell_type": "code",
   "execution_count": 27,
   "metadata": {
    "colab": {
     "base_uri": "https://localhost:8080/"
    },
    "id": "Dk9vhr8MzXBW",
    "outputId": "bfd44318-9748-4842-c623-345e6f234c62"
   },
   "outputs": [
    {
     "name": "stdout",
     "output_type": "stream",
     "text": [
      "Epoch 1/100\n",
      "16/16 [==============================] - 7s 196ms/step - loss: 0.0444 - val_loss: 0.1033\n",
      "Epoch 2/100\n",
      "16/16 [==============================] - 2s 130ms/step - loss: 0.0060 - val_loss: 0.0275\n",
      "Epoch 3/100\n",
      "16/16 [==============================] - 2s 129ms/step - loss: 0.0025 - val_loss: 0.0069\n",
      "Epoch 4/100\n",
      "16/16 [==============================] - 2s 130ms/step - loss: 0.0011 - val_loss: 0.0015\n",
      "Epoch 5/100\n",
      "16/16 [==============================] - 2s 132ms/step - loss: 6.9355e-04 - val_loss: 0.0012\n",
      "Epoch 6/100\n",
      "16/16 [==============================] - 2s 132ms/step - loss: 6.7687e-04 - val_loss: 8.4167e-04\n",
      "Epoch 7/100\n",
      "16/16 [==============================] - 2s 131ms/step - loss: 6.2126e-04 - val_loss: 0.0015\n",
      "Epoch 8/100\n",
      "16/16 [==============================] - 2s 131ms/step - loss: 6.1344e-04 - val_loss: 0.0019\n",
      "Epoch 9/100\n",
      "16/16 [==============================] - 2s 129ms/step - loss: 6.7019e-04 - val_loss: 0.0011\n",
      "Epoch 10/100\n",
      "16/16 [==============================] - 2s 129ms/step - loss: 6.0874e-04 - val_loss: 0.0025\n",
      "Epoch 11/100\n",
      "16/16 [==============================] - 2s 130ms/step - loss: 6.9181e-04 - val_loss: 0.0021\n",
      "Epoch 12/100\n",
      "16/16 [==============================] - 2s 130ms/step - loss: 6.0704e-04 - val_loss: 0.0012\n",
      "Epoch 13/100\n",
      "16/16 [==============================] - 2s 133ms/step - loss: 5.9065e-04 - val_loss: 0.0026\n",
      "Epoch 14/100\n",
      "16/16 [==============================] - 2s 131ms/step - loss: 6.3115e-04 - val_loss: 0.0024\n",
      "Epoch 15/100\n",
      "16/16 [==============================] - 2s 130ms/step - loss: 5.8324e-04 - val_loss: 9.6245e-04\n",
      "Epoch 16/100\n",
      "16/16 [==============================] - 2s 130ms/step - loss: 6.0466e-04 - val_loss: 0.0025\n",
      "Epoch 17/100\n",
      "16/16 [==============================] - 2s 131ms/step - loss: 6.0756e-04 - val_loss: 0.0025\n",
      "Epoch 18/100\n",
      "16/16 [==============================] - 2s 130ms/step - loss: 5.5666e-04 - val_loss: 0.0022\n",
      "Epoch 19/100\n",
      "16/16 [==============================] - 2s 131ms/step - loss: 5.7058e-04 - val_loss: 0.0024\n",
      "Epoch 20/100\n",
      "16/16 [==============================] - 2s 130ms/step - loss: 5.5790e-04 - val_loss: 0.0021\n",
      "Epoch 21/100\n",
      "16/16 [==============================] - 2s 131ms/step - loss: 5.5393e-04 - val_loss: 0.0012\n",
      "Epoch 22/100\n",
      "16/16 [==============================] - 2s 132ms/step - loss: 7.0854e-04 - val_loss: 0.0038\n",
      "Epoch 23/100\n",
      "16/16 [==============================] - 2s 131ms/step - loss: 5.8370e-04 - val_loss: 0.0024\n",
      "Epoch 24/100\n",
      "16/16 [==============================] - 2s 131ms/step - loss: 5.6230e-04 - val_loss: 0.0049\n",
      "Epoch 25/100\n",
      "16/16 [==============================] - 2s 132ms/step - loss: 5.2663e-04 - val_loss: 0.0029\n",
      "Epoch 26/100\n",
      "16/16 [==============================] - 2s 131ms/step - loss: 5.0691e-04 - val_loss: 0.0029\n",
      "Epoch 27/100\n",
      "16/16 [==============================] - 2s 130ms/step - loss: 5.1562e-04 - val_loss: 0.0058\n",
      "Epoch 28/100\n",
      "16/16 [==============================] - 2s 130ms/step - loss: 5.1617e-04 - val_loss: 0.0029\n",
      "Epoch 29/100\n",
      "16/16 [==============================] - 2s 131ms/step - loss: 4.9133e-04 - val_loss: 0.0013\n",
      "Epoch 30/100\n",
      "16/16 [==============================] - 2s 130ms/step - loss: 6.0705e-04 - val_loss: 0.0032\n",
      "Epoch 31/100\n",
      "16/16 [==============================] - 2s 129ms/step - loss: 6.1032e-04 - val_loss: 0.0056\n",
      "Epoch 32/100\n",
      "16/16 [==============================] - 2s 130ms/step - loss: 5.6631e-04 - val_loss: 0.0058\n",
      "Epoch 33/100\n",
      "16/16 [==============================] - 2s 132ms/step - loss: 5.0491e-04 - val_loss: 0.0028\n",
      "Epoch 34/100\n",
      "16/16 [==============================] - 2s 132ms/step - loss: 5.0249e-04 - val_loss: 0.0028\n",
      "Epoch 35/100\n",
      "16/16 [==============================] - 2s 129ms/step - loss: 5.0858e-04 - val_loss: 0.0060\n",
      "Epoch 36/100\n",
      "16/16 [==============================] - 2s 132ms/step - loss: 4.7395e-04 - val_loss: 0.0042\n",
      "Epoch 37/100\n",
      "16/16 [==============================] - 2s 132ms/step - loss: 4.4969e-04 - val_loss: 0.0070\n",
      "Epoch 38/100\n",
      "16/16 [==============================] - 2s 132ms/step - loss: 5.3691e-04 - val_loss: 0.0052\n",
      "Epoch 39/100\n",
      "16/16 [==============================] - 2s 131ms/step - loss: 5.3093e-04 - val_loss: 0.0033\n",
      "Epoch 40/100\n",
      "16/16 [==============================] - 2s 129ms/step - loss: 4.9934e-04 - val_loss: 0.0050\n",
      "Epoch 41/100\n",
      "16/16 [==============================] - 2s 131ms/step - loss: 4.4307e-04 - val_loss: 0.0033\n",
      "Epoch 42/100\n",
      "16/16 [==============================] - 2s 130ms/step - loss: 4.3534e-04 - val_loss: 0.0043\n",
      "Epoch 43/100\n",
      "16/16 [==============================] - 2s 132ms/step - loss: 4.4626e-04 - val_loss: 0.0067\n",
      "Epoch 44/100\n",
      "16/16 [==============================] - 2s 131ms/step - loss: 4.7277e-04 - val_loss: 0.0032\n",
      "Epoch 45/100\n",
      "16/16 [==============================] - 2s 130ms/step - loss: 4.6309e-04 - val_loss: 0.0025\n",
      "Epoch 46/100\n",
      "16/16 [==============================] - 2s 132ms/step - loss: 4.6178e-04 - val_loss: 0.0024\n",
      "Epoch 47/100\n",
      "16/16 [==============================] - 2s 130ms/step - loss: 4.1544e-04 - val_loss: 0.0086\n",
      "Epoch 48/100\n",
      "16/16 [==============================] - 2s 130ms/step - loss: 5.7133e-04 - val_loss: 0.0072\n",
      "Epoch 49/100\n",
      "16/16 [==============================] - 2s 131ms/step - loss: 4.7529e-04 - val_loss: 0.0036\n",
      "Epoch 50/100\n",
      "16/16 [==============================] - 2s 130ms/step - loss: 4.0113e-04 - val_loss: 0.0032\n",
      "Epoch 51/100\n",
      "16/16 [==============================] - 2s 132ms/step - loss: 4.1558e-04 - val_loss: 0.0045\n",
      "Epoch 52/100\n",
      "16/16 [==============================] - 2s 130ms/step - loss: 3.8912e-04 - val_loss: 0.0040\n",
      "Epoch 53/100\n",
      "16/16 [==============================] - 2s 133ms/step - loss: 3.9156e-04 - val_loss: 0.0044\n",
      "Epoch 54/100\n",
      "16/16 [==============================] - 2s 129ms/step - loss: 3.8530e-04 - val_loss: 0.0034\n",
      "Epoch 55/100\n",
      "16/16 [==============================] - 2s 132ms/step - loss: 3.8778e-04 - val_loss: 0.0045\n",
      "Epoch 56/100\n",
      "16/16 [==============================] - 2s 133ms/step - loss: 4.5137e-04 - val_loss: 0.0073\n",
      "Epoch 57/100\n",
      "16/16 [==============================] - 2s 132ms/step - loss: 4.8548e-04 - val_loss: 0.0073\n",
      "Epoch 58/100\n",
      "16/16 [==============================] - 2s 131ms/step - loss: 4.0212e-04 - val_loss: 0.0034\n",
      "Epoch 59/100\n",
      "16/16 [==============================] - 2s 131ms/step - loss: 3.5886e-04 - val_loss: 0.0041\n",
      "Epoch 60/100\n",
      "16/16 [==============================] - 2s 129ms/step - loss: 3.5765e-04 - val_loss: 0.0040\n",
      "Epoch 61/100\n",
      "16/16 [==============================] - 2s 131ms/step - loss: 3.6108e-04 - val_loss: 0.0020\n",
      "Epoch 62/100\n",
      "16/16 [==============================] - 2s 131ms/step - loss: 4.3300e-04 - val_loss: 0.0036\n",
      "Epoch 63/100\n",
      "16/16 [==============================] - 2s 130ms/step - loss: 3.5907e-04 - val_loss: 0.0038\n",
      "Epoch 64/100\n",
      "16/16 [==============================] - 2s 130ms/step - loss: 3.4774e-04 - val_loss: 0.0049\n",
      "Epoch 65/100\n",
      "16/16 [==============================] - 2s 130ms/step - loss: 3.5689e-04 - val_loss: 0.0044\n",
      "Epoch 66/100\n",
      "16/16 [==============================] - 2s 131ms/step - loss: 3.3991e-04 - val_loss: 0.0074\n",
      "Epoch 67/100\n",
      "16/16 [==============================] - 2s 132ms/step - loss: 5.3267e-04 - val_loss: 0.0059\n",
      "Epoch 68/100\n",
      "16/16 [==============================] - 2s 131ms/step - loss: 3.4153e-04 - val_loss: 0.0044\n",
      "Epoch 69/100\n",
      "16/16 [==============================] - 2s 130ms/step - loss: 3.3639e-04 - val_loss: 0.0029\n",
      "Epoch 70/100\n",
      "16/16 [==============================] - 2s 130ms/step - loss: 3.6222e-04 - val_loss: 0.0019\n",
      "Epoch 71/100\n",
      "16/16 [==============================] - 2s 137ms/step - loss: 3.6139e-04 - val_loss: 0.0030\n",
      "Epoch 72/100\n",
      "16/16 [==============================] - 2s 130ms/step - loss: 3.3444e-04 - val_loss: 0.0030\n",
      "Epoch 73/100\n",
      "16/16 [==============================] - 2s 132ms/step - loss: 3.5945e-04 - val_loss: 0.0056\n",
      "Epoch 74/100\n",
      "16/16 [==============================] - 2s 130ms/step - loss: 3.3433e-04 - val_loss: 0.0016\n",
      "Epoch 75/100\n",
      "16/16 [==============================] - 2s 131ms/step - loss: 3.3124e-04 - val_loss: 0.0064\n",
      "Epoch 76/100\n",
      "16/16 [==============================] - 2s 131ms/step - loss: 4.1334e-04 - val_loss: 0.0042\n",
      "Epoch 77/100\n",
      "16/16 [==============================] - 2s 130ms/step - loss: 3.1289e-04 - val_loss: 0.0020\n",
      "Epoch 78/100\n",
      "16/16 [==============================] - 2s 134ms/step - loss: 3.0720e-04 - val_loss: 0.0023\n",
      "Epoch 79/100\n",
      "16/16 [==============================] - 2s 133ms/step - loss: 3.1480e-04 - val_loss: 0.0032\n",
      "Epoch 80/100\n",
      "16/16 [==============================] - 2s 128ms/step - loss: 3.1549e-04 - val_loss: 0.0018\n",
      "Epoch 81/100\n",
      "16/16 [==============================] - 2s 133ms/step - loss: 3.2848e-04 - val_loss: 0.0021\n",
      "Epoch 82/100\n",
      "16/16 [==============================] - 2s 130ms/step - loss: 3.0241e-04 - val_loss: 0.0023\n",
      "Epoch 83/100\n",
      "16/16 [==============================] - 2s 131ms/step - loss: 2.9558e-04 - val_loss: 0.0041\n",
      "Epoch 84/100\n",
      "16/16 [==============================] - 2s 132ms/step - loss: 3.6865e-04 - val_loss: 0.0016\n",
      "Epoch 85/100\n",
      "16/16 [==============================] - 2s 133ms/step - loss: 3.2326e-04 - val_loss: 0.0015\n",
      "Epoch 86/100\n",
      "16/16 [==============================] - 2s 131ms/step - loss: 2.9901e-04 - val_loss: 0.0045\n",
      "Epoch 87/100\n",
      "16/16 [==============================] - 2s 133ms/step - loss: 4.2876e-04 - val_loss: 0.0018\n",
      "Epoch 88/100\n",
      "16/16 [==============================] - 2s 133ms/step - loss: 2.9265e-04 - val_loss: 0.0014\n",
      "Epoch 89/100\n",
      "16/16 [==============================] - 2s 132ms/step - loss: 2.7950e-04 - val_loss: 0.0012\n",
      "Epoch 90/100\n",
      "16/16 [==============================] - 2s 132ms/step - loss: 2.6798e-04 - val_loss: 0.0035\n",
      "Epoch 91/100\n",
      "16/16 [==============================] - 2s 132ms/step - loss: 2.9693e-04 - val_loss: 0.0014\n",
      "Epoch 92/100\n",
      "16/16 [==============================] - 2s 132ms/step - loss: 2.9320e-04 - val_loss: 0.0018\n",
      "Epoch 93/100\n",
      "16/16 [==============================] - 2s 134ms/step - loss: 2.7180e-04 - val_loss: 8.5343e-04\n",
      "Epoch 94/100\n",
      "16/16 [==============================] - 2s 131ms/step - loss: 2.6479e-04 - val_loss: 0.0018\n",
      "Epoch 95/100\n",
      "16/16 [==============================] - 2s 133ms/step - loss: 2.5207e-04 - val_loss: 4.2248e-04\n",
      "Epoch 96/100\n",
      "16/16 [==============================] - 2s 132ms/step - loss: 2.9075e-04 - val_loss: 0.0017\n",
      "Epoch 97/100\n",
      "16/16 [==============================] - 2s 133ms/step - loss: 2.5377e-04 - val_loss: 0.0017\n",
      "Epoch 98/100\n",
      "16/16 [==============================] - 2s 133ms/step - loss: 2.6746e-04 - val_loss: 3.9482e-04\n",
      "Epoch 99/100\n",
      "16/16 [==============================] - 2s 133ms/step - loss: 2.5289e-04 - val_loss: 0.0013\n",
      "Epoch 100/100\n",
      "16/16 [==============================] - 2s 134ms/step - loss: 2.4332e-04 - val_loss: 0.0018\n"
     ]
    },
    {
     "data": {
      "text/plain": [
       "<keras.callbacks.History at 0x7f798a774850>"
      ]
     },
     "execution_count": 27,
     "metadata": {},
     "output_type": "execute_result"
    }
   ],
   "source": [
    "\n",
    "model.fit(X_train,y_train,validation_data=(X_test,ytest),epochs=100,batch_size=64,verbose=1)"
   ]
  },
  {
   "cell_type": "code",
   "execution_count": 21,
   "metadata": {
    "colab": {
     "base_uri": "https://localhost:8080/",
     "height": 35
    },
    "id": "fZDRIKtzzXDI",
    "outputId": "5a86864e-8831-4232-f6a5-6ff4b789cd39"
   },
   "outputs": [
    {
     "data": {
      "application/vnd.google.colaboratory.intrinsic+json": {
       "type": "string"
      },
      "text/plain": [
       "'2.6.0'"
      ]
     },
     "execution_count": 21,
     "metadata": {},
     "output_type": "execute_result"
    }
   ],
   "source": [
    "import tensorflow as tf\n",
    "tf.__version__"
   ]
  },
  {
   "cell_type": "code",
   "execution_count": 22,
   "metadata": {
    "id": "7HgDEvXizvwl"
   },
   "outputs": [],
   "source": [
    "### Lets Do the prediction and check performance metrics\n",
    "train_predict=model.predict(X_train)\n",
    "test_predict=model.predict(X_test)"
   ]
  },
  {
   "cell_type": "code",
   "execution_count": 23,
   "metadata": {
    "id": "jfa0qJyczv37"
   },
   "outputs": [],
   "source": [
    "##Transformback to original form\n",
    "train_predict=scaler.inverse_transform(train_predict)\n",
    "test_predict=scaler.inverse_transform(test_predict)"
   ]
  },
  {
   "cell_type": "code",
   "execution_count": 24,
   "metadata": {
    "colab": {
     "base_uri": "https://localhost:8080/"
    },
    "id": "gi6F2_Bjz8DR",
    "outputId": "83c94f5c-d834-40dc-a8de-6a2f075f5602"
   },
   "outputs": [
    {
     "data": {
      "text/plain": [
       "1247.1857594332084"
      ]
     },
     "execution_count": 24,
     "metadata": {},
     "output_type": "execute_result"
    }
   ],
   "source": [
    "### Calculate RMSE performance metrics\n",
    "import math\n",
    "from sklearn.metrics import mean_squared_error\n",
    "math.sqrt(mean_squared_error(y_train,train_predict))"
   ]
  },
  {
   "cell_type": "code",
   "execution_count": 25,
   "metadata": {
    "colab": {
     "base_uri": "https://localhost:8080/"
    },
    "id": "sCjfV_vOz8Fq",
    "outputId": "a1e2b1fe-0c04-47b8-a0b4-22359a2db72f"
   },
   "outputs": [
    {
     "data": {
      "text/plain": [
       "1212.0651192898727"
      ]
     },
     "execution_count": 25,
     "metadata": {},
     "output_type": "execute_result"
    }
   ],
   "source": [
    "### Test Data RMSE\n",
    "math.sqrt(mean_squared_error(ytest,test_predict))"
   ]
  },
  {
   "cell_type": "code",
   "execution_count": 29,
   "metadata": {
    "colab": {
     "base_uri": "https://localhost:8080/",
     "height": 267
    },
    "id": "NAKS04LHJwTe",
    "outputId": "1fac7437-b8a9-4b26-e143-080200cfae67"
   },
   "outputs": [
    {
     "data": {
      "image/png": "[encoded data removed]",
      "text/plain": [
       "<Figure size 432x288 with 1 Axes>"
      ]
     },
     "metadata": {
      "needs_background": "light"
     },
     "output_type": "display_data"
    }
   ],
   "source": [
    "### Plotting \n",
    "# shift train predictions for plotting\n",
    "look_back=100\n",
    "trainPredictPlot = numpy.empty_like(df1)\n",
    "trainPredictPlot[:, :] = np.nan\n",
    "trainPredictPlot[look_back:len(train_predict)+look_back, :] = train_predict\n",
    "# shift test predictions for plotting\n",
    "testPredictPlot = numpy.empty_like(df1)\n",
    "testPredictPlot[:, :] = numpy.nan\n",
    "testPredictPlot[len(train_predict)+(look_back*2)+1:len(df1)-1, :] = test_predict\n",
    "# plot baseline and predictions\n",
    "plt.plot(scaler.inverse_transform(df1))\n",
    "plt.plot(trainPredictPlot)\n",
    "plt.plot(testPredictPlot)\n",
    "plt.show()"
   ]
  },
  {
   "cell_type": "code",
   "execution_count": 28,
   "metadata": {
    "colab": {
     "base_uri": "https://localhost:8080/",
     "height": 267
    },
    "id": "AGvh0Ns1z8IK",
    "outputId": "5ebfdd9e-0770-40bc-8397-c10e796fc3eb"
   },
   "outputs": [
    {
     "data": {
      "image/png": "[encoded data removed]",
      "text/plain": [
       "<Figure size 432x288 with 1 Axes>"
      ]
     },
     "metadata": {
      "needs_background": "light"
     },
     "output_type": "display_data"
    }
   ],
   "source": [
    "### Plotting \n",
    "# shift train predictions for plotting\n",
    "look_back=100\n",
    "trainPredictPlot = numpy.empty_like(df1)\n",
    "trainPredictPlot[:, :] = np.nan\n",
    "trainPredictPlot[look_back:len(train_predict)+look_back, :] = train_predict\n",
    "# shift test predictions for plotting\n",
    "testPredictPlot = numpy.empty_like(df1)\n",
    "testPredictPlot[:, :] = numpy.nan\n",
    "testPredictPlot[len(train_predict)+(look_back*2)+1:len(df1)-1, :] = test_predict\n",
    "# plot baseline and predictions\n",
    "plt.plot(scaler.inverse_transform(df1))\n",
    "plt.plot(trainPredictPlot)\n",
    "plt.plot(testPredictPlot)\n",
    "plt.show()"
   ]
  },
  {
   "cell_type": "code",
   "execution_count": 30,
   "metadata": {
    "colab": {
     "base_uri": "https://localhost:8080/"
    },
    "id": "MEJy3MoJzv6q",
    "outputId": "83cf92b4-badf-4cd6-cfaf-924a6ab37630"
   },
   "outputs": [
    {
     "data": {
      "text/plain": [
       "573"
      ]
     },
     "execution_count": 30,
     "metadata": {},
     "output_type": "execute_result"
    }
   ],
   "source": [
    "len(test_data)"
   ]
  },
  {
   "cell_type": "code",
   "execution_count": 31,
   "metadata": {
    "colab": {
     "base_uri": "https://localhost:8080/"
    },
    "id": "oQ2EN9S9zv9E",
    "outputId": "829aec7b-dd80-4ebc-e8d7-66f5de6f93ec"
   },
   "outputs": [
    {
     "data": {
      "text/plain": [
       "(1, 100)"
      ]
     },
     "execution_count": 31,
     "metadata": {},
     "output_type": "execute_result"
    }
   ],
   "source": [
    "x_input=test_data[473:].reshape(1,-1)\n",
    "x_input.shape"
   ]
  },
  {
   "cell_type": "code",
   "execution_count": 32,
   "metadata": {
    "id": "e2zzZNkIzv_W"
   },
   "outputs": [],
   "source": [
    "temp_input=list(x_input)\n",
    "temp_input=temp_input[0].tolist()"
   ]
  },
  {
   "cell_type": "code",
   "execution_count": 33,
   "metadata": {
    "colab": {
     "base_uri": "https://localhost:8080/"
    },
    "id": "09M_PusZzwBt",
    "outputId": "759eeb46-8a08-407d-e132-923ffae89b34"
   },
   "outputs": [
    {
     "data": {
      "text/plain": [
       "[0.912930356386519,\n",
       " 0.9061414654807285,\n",
       " 0.9102922490470138,\n",
       " 0.9085798995582985,\n",
       " 0.9050039329581896,\n",
       " 0.898251346281842,\n",
       " 0.9011133297029104,\n",
       " 0.8904882918860049,\n",
       " 0.893586252798451,\n",
       " 0.870708537544624,\n",
       " 0.8743329097839898,\n",
       " 0.8601561081866038,\n",
       " 0.8702486839716828,\n",
       " 0.8714951291825497,\n",
       " 0.8765414170750891,\n",
       " 0.8683790161553819,\n",
       " 0.8825316149331397,\n",
       " 0.8965753010225692,\n",
       " 0.9113087674714104,\n",
       " 0.9171597991165972,\n",
       " 0.9051673019906818,\n",
       " 0.9198523628002662,\n",
       " 0.921679675682217,\n",
       " 0.9199370726689657,\n",
       " 0.9266654565256853,\n",
       " 0.9303382344043081,\n",
       " 0.9236037998426816,\n",
       " 0.9219943123373873,\n",
       " 0.925110425364555,\n",
       " 0.9332304713499122,\n",
       " 0.9487626308464936,\n",
       " 0.9435408725116476,\n",
       " 0.9322744599745871,\n",
       " 0.9224602166152356,\n",
       " 0.9307436316330853,\n",
       " 0.9289707750952987,\n",
       " 0.937357052096569,\n",
       " 0.94530162763962,\n",
       " 0.9513825860712772,\n",
       " 0.9562534035215102,\n",
       " 0.9557996006534759,\n",
       " 0.9533067102317418,\n",
       " 0.9410237792702851,\n",
       " 0.9341562292007017,\n",
       " 0.9450656501482422,\n",
       " 0.9320021782537664,\n",
       " 0.9455073516064623,\n",
       " 0.951219217038785,\n",
       " 0.9554063048345134,\n",
       " 0.9589822714346221,\n",
       " 0.9582924910752104,\n",
       " 0.9553639499001634,\n",
       " 0.9660797482906758,\n",
       " 0.9794215526108789,\n",
       " 0.9798935075936346,\n",
       " 0.9898892721001997,\n",
       " 0.9820778120651057,\n",
       " 0.9823137895564833,\n",
       " 0.9794094512010647,\n",
       " 0.9744962788164819,\n",
       " 0.9681127851394689,\n",
       " 0.9642584861136321,\n",
       " 0.9675561202880136,\n",
       " 0.9740666787680763,\n",
       " 0.97468990137351,\n",
       " 0.9839232770617776,\n",
       " 0.9844073334543475,\n",
       " 0.9746172929146246,\n",
       " 0.9840019362255703,\n",
       " 0.9862043928117625,\n",
       " 1.0,\n",
       " 0.999346523870031,\n",
       " 0.9931142978156955,\n",
       " 0.9908089792460821,\n",
       " 0.9850063532401523,\n",
       " 0.989865069280571,\n",
       " 0.9898529678707568,\n",
       " 0.996272765777213,\n",
       " 0.9955708840079869,\n",
       " 0.9968294306286682,\n",
       " 0.9823682459006475,\n",
       " 0.9726629152296242,\n",
       " 0.9719731348702123,\n",
       " 0.9694983965631996,\n",
       " 0.9122224239123857,\n",
       " 0.8775458340896714,\n",
       " 0.9009983663096752,\n",
       " 0.8911115144914381,\n",
       " 0.9268893326072487,\n",
       " 0.9264597325588431,\n",
       " 0.9019967326193503,\n",
       " 0.9013916621286382,\n",
       " 0.8941913232891632,\n",
       " 0.8850003025352453,\n",
       " 0.8338173897259029,\n",
       " 0.8637502269014341,\n",
       " 0.8353845222968477,\n",
       " 0.8248320929388273,\n",
       " 0.8498699098444968,\n",
       " 0.867483511829128]"
      ]
     },
     "execution_count": 33,
     "metadata": {},
     "output_type": "execute_result"
    }
   ],
   "source": [
    "temp_input"
   ]
  },
  {
   "cell_type": "code",
   "execution_count": 34,
   "metadata": {
    "colab": {
     "base_uri": "https://localhost:8080/"
    },
    "id": "jLxY_UtczwE2",
    "outputId": "eebc0e33-8ed0-4911-ea5b-6d48b7fa842e"
   },
   "outputs": [
    {
     "name": "stdout",
     "output_type": "stream",
     "text": [
      "[0.79301894]\n",
      "101\n",
      "1 day input [0.90614147 0.91029225 0.9085799  0.90500393 0.89825135 0.90111333\n",
      " 0.89048829 0.89358625 0.87070854 0.87433291 0.86015611 0.87024868\n",
      " 0.87149513 0.87654142 0.86837902 0.88253161 0.8965753  0.91130877\n",
      " 0.9171598  0.9051673  0.91985236 0.92167968 0.91993707 0.92666546\n",
      " 0.93033823 0.9236038  0.92199431 0.92511043 0.93323047 0.94876263\n",
      " 0.94354087 0.93227446 0.92246022 0.93074363 0.92897078 0.93735705\n",
      " 0.94530163 0.95138259 0.9562534  0.9557996  0.95330671 0.94102378\n",
      " 0.93415623 0.94506565 0.93200218 0.94550735 0.95121922 0.9554063\n",
      " 0.95898227 0.95829249 0.95536395 0.96607975 0.97942155 0.97989351\n",
      " 0.98988927 0.98207781 0.98231379 0.97940945 0.97449628 0.96811279\n",
      " 0.96425849 0.96755612 0.97406668 0.9746899  0.98392328 0.98440733\n",
      " 0.97461729 0.98400194 0.98620439 1.         0.99934652 0.9931143\n",
      " 0.99080898 0.98500635 0.98986507 0.98985297 0.99627277 0.99557088\n",
      " 0.99682943 0.98236825 0.97266292 0.97197313 0.9694984  0.91222242\n",
      " 0.87754583 0.90099837 0.89111151 0.92688933 0.92645973 0.90199673\n",
      " 0.90139166 0.89419132 0.8850003  0.83381739 0.86375023 0.83538452\n",
      " 0.82483209 0.84986991 0.86748351 0.79301894]\n",
      "1 day output [[0.78946835]]\n",
      "2 day input [0.91029225 0.9085799  0.90500393 0.89825135 0.90111333 0.89048829\n",
      " 0.89358625 0.87070854 0.87433291 0.86015611 0.87024868 0.87149513\n",
      " 0.87654142 0.86837902 0.88253161 0.8965753  0.91130877 0.9171598\n",
      " 0.9051673  0.91985236 0.92167968 0.91993707 0.92666546 0.93033823\n",
      " 0.9236038  0.92199431 0.92511043 0.93323047 0.94876263 0.94354087\n",
      " 0.93227446 0.92246022 0.93074363 0.92897078 0.93735705 0.94530163\n",
      " 0.95138259 0.9562534  0.9557996  0.95330671 0.94102378 0.93415623\n",
      " 0.94506565 0.93200218 0.94550735 0.95121922 0.9554063  0.95898227\n",
      " 0.95829249 0.95536395 0.96607975 0.97942155 0.97989351 0.98988927\n",
      " 0.98207781 0.98231379 0.97940945 0.97449628 0.96811279 0.96425849\n",
      " 0.96755612 0.97406668 0.9746899  0.98392328 0.98440733 0.97461729\n",
      " 0.98400194 0.98620439 1.         0.99934652 0.9931143  0.99080898\n",
      " 0.98500635 0.98986507 0.98985297 0.99627277 0.99557088 0.99682943\n",
      " 0.98236825 0.97266292 0.97197313 0.9694984  0.91222242 0.87754583\n",
      " 0.90099837 0.89111151 0.92688933 0.92645973 0.90199673 0.90139166\n",
      " 0.89419132 0.8850003  0.83381739 0.86375023 0.83538452 0.82483209\n",
      " 0.84986991 0.86748351 0.79301894 0.78946835]\n",
      "2 day output [[0.7793047]]\n",
      "3 day input [0.9085799  0.90500393 0.89825135 0.90111333 0.89048829 0.89358625\n",
      " 0.87070854 0.87433291 0.86015611 0.87024868 0.87149513 0.87654142\n",
      " 0.86837902 0.88253161 0.8965753  0.91130877 0.9171598  0.9051673\n",
      " 0.91985236 0.92167968 0.91993707 0.92666546 0.93033823 0.9236038\n",
      " 0.92199431 0.92511043 0.93323047 0.94876263 0.94354087 0.93227446\n",
      " 0.92246022 0.93074363 0.92897078 0.93735705 0.94530163 0.95138259\n",
      " 0.9562534  0.9557996  0.95330671 0.94102378 0.93415623 0.94506565\n",
      " 0.93200218 0.94550735 0.95121922 0.9554063  0.95898227 0.95829249\n",
      " 0.95536395 0.96607975 0.97942155 0.97989351 0.98988927 0.98207781\n",
      " 0.98231379 0.97940945 0.97449628 0.96811279 0.96425849 0.96755612\n",
      " 0.97406668 0.9746899  0.98392328 0.98440733 0.97461729 0.98400194\n",
      " 0.98620439 1.         0.99934652 0.9931143  0.99080898 0.98500635\n",
      " 0.98986507 0.98985297 0.99627277 0.99557088 0.99682943 0.98236825\n",
      " 0.97266292 0.97197313 0.9694984  0.91222242 0.87754583 0.90099837\n",
      " 0.89111151 0.92688933 0.92645973 0.90199673 0.90139166 0.89419132\n",
      " 0.8850003  0.83381739 0.86375023 0.83538452 0.82483209 0.84986991\n",
      " 0.86748351 0.79301894 0.78946835 0.77930468]\n",
      "3 day output [[0.7651687]]\n",
      "4 day input [0.90500393 0.89825135 0.90111333 0.89048829 0.89358625 0.87070854\n",
      " 0.87433291 0.86015611 0.87024868 0.87149513 0.87654142 0.86837902\n",
      " 0.88253161 0.8965753  0.91130877 0.9171598  0.9051673  0.91985236\n",
      " 0.92167968 0.91993707 0.92666546 0.93033823 0.9236038  0.92199431\n",
      " 0.92511043 0.93323047 0.94876263 0.94354087 0.93227446 0.92246022\n",
      " 0.93074363 0.92897078 0.93735705 0.94530163 0.95138259 0.9562534\n",
      " 0.9557996  0.95330671 0.94102378 0.93415623 0.94506565 0.93200218\n",
      " 0.94550735 0.95121922 0.9554063  0.95898227 0.95829249 0.95536395\n",
      " 0.96607975 0.97942155 0.97989351 0.98988927 0.98207781 0.98231379\n",
      " 0.97940945 0.97449628 0.96811279 0.96425849 0.96755612 0.97406668\n",
      " 0.9746899  0.98392328 0.98440733 0.97461729 0.98400194 0.98620439\n",
      " 1.         0.99934652 0.9931143  0.99080898 0.98500635 0.98986507\n",
      " 0.98985297 0.99627277 0.99557088 0.99682943 0.98236825 0.97266292\n",
      " 0.97197313 0.9694984  0.91222242 0.87754583 0.90099837 0.89111151\n",
      " 0.92688933 0.92645973 0.90199673 0.90139166 0.89419132 0.8850003\n",
      " 0.83381739 0.86375023 0.83538452 0.82483209 0.84986991 0.86748351\n",
      " 0.79301894 0.78946835 0.77930468 0.76516873]\n",
      "4 day output [[0.7493295]]\n",
      "5 day input [0.89825135 0.90111333 0.89048829 0.89358625 0.87070854 0.87433291\n",
      " 0.86015611 0.87024868 0.87149513 0.87654142 0.86837902 0.88253161\n",
      " 0.8965753  0.91130877 0.9171598  0.9051673  0.91985236 0.92167968\n",
      " 0.91993707 0.92666546 0.93033823 0.9236038  0.92199431 0.92511043\n",
      " 0.93323047 0.94876263 0.94354087 0.93227446 0.92246022 0.93074363\n",
      " 0.92897078 0.93735705 0.94530163 0.95138259 0.9562534  0.9557996\n",
      " 0.95330671 0.94102378 0.93415623 0.94506565 0.93200218 0.94550735\n",
      " 0.95121922 0.9554063  0.95898227 0.95829249 0.95536395 0.96607975\n",
      " 0.97942155 0.97989351 0.98988927 0.98207781 0.98231379 0.97940945\n",
      " 0.97449628 0.96811279 0.96425849 0.96755612 0.97406668 0.9746899\n",
      " 0.98392328 0.98440733 0.97461729 0.98400194 0.98620439 1.\n",
      " 0.99934652 0.9931143  0.99080898 0.98500635 0.98986507 0.98985297\n",
      " 0.99627277 0.99557088 0.99682943 0.98236825 0.97266292 0.97197313\n",
      " 0.9694984  0.91222242 0.87754583 0.90099837 0.89111151 0.92688933\n",
      " 0.92645973 0.90199673 0.90139166 0.89419132 0.8850003  0.83381739\n",
      " 0.86375023 0.83538452 0.82483209 0.84986991 0.86748351 0.79301894\n",
      " 0.78946835 0.77930468 0.76516873 0.74932951]\n",
      "5 day output [[0.7331067]]\n",
      "6 day input [0.90111333 0.89048829 0.89358625 0.87070854 0.87433291 0.86015611\n",
      " 0.87024868 0.87149513 0.87654142 0.86837902 0.88253161 0.8965753\n",
      " 0.91130877 0.9171598  0.9051673  0.91985236 0.92167968 0.91993707\n",
      " 0.92666546 0.93033823 0.9236038  0.92199431 0.92511043 0.93323047\n",
      " 0.94876263 0.94354087 0.93227446 0.92246022 0.93074363 0.92897078\n",
      " 0.93735705 0.94530163 0.95138259 0.9562534  0.9557996  0.95330671\n",
      " 0.94102378 0.93415623 0.94506565 0.93200218 0.94550735 0.95121922\n",
      " 0.9554063  0.95898227 0.95829249 0.95536395 0.96607975 0.97942155\n",
      " 0.97989351 0.98988927 0.98207781 0.98231379 0.97940945 0.97449628\n",
      " 0.96811279 0.96425849 0.96755612 0.97406668 0.9746899  0.98392328\n",
      " 0.98440733 0.97461729 0.98400194 0.98620439 1.         0.99934652\n",
      " 0.9931143  0.99080898 0.98500635 0.98986507 0.98985297 0.99627277\n",
      " 0.99557088 0.99682943 0.98236825 0.97266292 0.97197313 0.9694984\n",
      " 0.91222242 0.87754583 0.90099837 0.89111151 0.92688933 0.92645973\n",
      " 0.90199673 0.90139166 0.89419132 0.8850003  0.83381739 0.86375023\n",
      " 0.83538452 0.82483209 0.84986991 0.86748351 0.79301894 0.78946835\n",
      " 0.77930468 0.76516873 0.74932951 0.73310667]\n",
      "6 day output [[0.71712625]]\n",
      "7 day input [0.89048829 0.89358625 0.87070854 0.87433291 0.86015611 0.87024868\n",
      " 0.87149513 0.87654142 0.86837902 0.88253161 0.8965753  0.91130877\n",
      " 0.9171598  0.9051673  0.91985236 0.92167968 0.91993707 0.92666546\n",
      " 0.93033823 0.9236038  0.92199431 0.92511043 0.93323047 0.94876263\n",
      " 0.94354087 0.93227446 0.92246022 0.93074363 0.92897078 0.93735705\n",
      " 0.94530163 0.95138259 0.9562534  0.9557996  0.95330671 0.94102378\n",
      " 0.93415623 0.94506565 0.93200218 0.94550735 0.95121922 0.9554063\n",
      " 0.95898227 0.95829249 0.95536395 0.96607975 0.97942155 0.97989351\n",
      " 0.98988927 0.98207781 0.98231379 0.97940945 0.97449628 0.96811279\n",
      " 0.96425849 0.96755612 0.97406668 0.9746899  0.98392328 0.98440733\n",
      " 0.97461729 0.98400194 0.98620439 1.         0.99934652 0.9931143\n",
      " 0.99080898 0.98500635 0.98986507 0.98985297 0.99627277 0.99557088\n",
      " 0.99682943 0.98236825 0.97266292 0.97197313 0.9694984  0.91222242\n",
      " 0.87754583 0.90099837 0.89111151 0.92688933 0.92645973 0.90199673\n",
      " 0.90139166 0.89419132 0.8850003  0.83381739 0.86375023 0.83538452\n",
      " 0.82483209 0.84986991 0.86748351 0.79301894 0.78946835 0.77930468\n",
      " 0.76516873 0.74932951 0.73310667 0.71712625]\n",
      "7 day output [[0.7016526]]\n",
      "8 day input [0.89358625 0.87070854 0.87433291 0.86015611 0.87024868 0.87149513\n",
      " 0.87654142 0.86837902 0.88253161 0.8965753  0.91130877 0.9171598\n",
      " 0.9051673  0.91985236 0.92167968 0.91993707 0.92666546 0.93033823\n",
      " 0.9236038  0.92199431 0.92511043 0.93323047 0.94876263 0.94354087\n",
      " 0.93227446 0.92246022 0.93074363 0.92897078 0.93735705 0.94530163\n",
      " 0.95138259 0.9562534  0.9557996  0.95330671 0.94102378 0.93415623\n",
      " 0.94506565 0.93200218 0.94550735 0.95121922 0.9554063  0.95898227\n",
      " 0.95829249 0.95536395 0.96607975 0.97942155 0.97989351 0.98988927\n",
      " 0.98207781 0.98231379 0.97940945 0.97449628 0.96811279 0.96425849\n",
      " 0.96755612 0.97406668 0.9746899  0.98392328 0.98440733 0.97461729\n",
      " 0.98400194 0.98620439 1.         0.99934652 0.9931143  0.99080898\n",
      " 0.98500635 0.98986507 0.98985297 0.99627277 0.99557088 0.99682943\n",
      " 0.98236825 0.97266292 0.97197313 0.9694984  0.91222242 0.87754583\n",
      " 0.90099837 0.89111151 0.92688933 0.92645973 0.90199673 0.90139166\n",
      " 0.89419132 0.8850003  0.83381739 0.86375023 0.83538452 0.82483209\n",
      " 0.84986991 0.86748351 0.79301894 0.78946835 0.77930468 0.76516873\n",
      " 0.74932951 0.73310667 0.71712625 0.70165259]\n",
      "8 day output [[0.6867989]]\n",
      "9 day input [0.87070854 0.87433291 0.86015611 0.87024868 0.87149513 0.87654142\n",
      " 0.86837902 0.88253161 0.8965753  0.91130877 0.9171598  0.9051673\n",
      " 0.91985236 0.92167968 0.91993707 0.92666546 0.93033823 0.9236038\n",
      " 0.92199431 0.92511043 0.93323047 0.94876263 0.94354087 0.93227446\n",
      " 0.92246022 0.93074363 0.92897078 0.93735705 0.94530163 0.95138259\n",
      " 0.9562534  0.9557996  0.95330671 0.94102378 0.93415623 0.94506565\n",
      " 0.93200218 0.94550735 0.95121922 0.9554063  0.95898227 0.95829249\n",
      " 0.95536395 0.96607975 0.97942155 0.97989351 0.98988927 0.98207781\n",
      " 0.98231379 0.97940945 0.97449628 0.96811279 0.96425849 0.96755612\n",
      " 0.97406668 0.9746899  0.98392328 0.98440733 0.97461729 0.98400194\n",
      " 0.98620439 1.         0.99934652 0.9931143  0.99080898 0.98500635\n",
      " 0.98986507 0.98985297 0.99627277 0.99557088 0.99682943 0.98236825\n",
      " 0.97266292 0.97197313 0.9694984  0.91222242 0.87754583 0.90099837\n",
      " 0.89111151 0.92688933 0.92645973 0.90199673 0.90139166 0.89419132\n",
      " 0.8850003  0.83381739 0.86375023 0.83538452 0.82483209 0.84986991\n",
      " 0.86748351 0.79301894 0.78946835 0.77930468 0.76516873 0.74932951\n",
      " 0.73310667 0.71712625 0.70165259 0.68679887]\n",
      "9 day output [[0.6726197]]\n",
      "10 day input [0.87433291 0.86015611 0.87024868 0.87149513 0.87654142 0.86837902\n",
      " 0.88253161 0.8965753  0.91130877 0.9171598  0.9051673  0.91985236\n",
      " 0.92167968 0.91993707 0.92666546 0.93033823 0.9236038  0.92199431\n",
      " 0.92511043 0.93323047 0.94876263 0.94354087 0.93227446 0.92246022\n",
      " 0.93074363 0.92897078 0.93735705 0.94530163 0.95138259 0.9562534\n",
      " 0.9557996  0.95330671 0.94102378 0.93415623 0.94506565 0.93200218\n",
      " 0.94550735 0.95121922 0.9554063  0.95898227 0.95829249 0.95536395\n",
      " 0.96607975 0.97942155 0.97989351 0.98988927 0.98207781 0.98231379\n",
      " 0.97940945 0.97449628 0.96811279 0.96425849 0.96755612 0.97406668\n",
      " 0.9746899  0.98392328 0.98440733 0.97461729 0.98400194 0.98620439\n",
      " 1.         0.99934652 0.9931143  0.99080898 0.98500635 0.98986507\n",
      " 0.98985297 0.99627277 0.99557088 0.99682943 0.98236825 0.97266292\n",
      " 0.97197313 0.9694984  0.91222242 0.87754583 0.90099837 0.89111151\n",
      " 0.92688933 0.92645973 0.90199673 0.90139166 0.89419132 0.8850003\n",
      " 0.83381739 0.86375023 0.83538452 0.82483209 0.84986991 0.86748351\n",
      " 0.79301894 0.78946835 0.77930468 0.76516873 0.74932951 0.73310667\n",
      " 0.71712625 0.70165259 0.68679887 0.6726197 ]\n",
      "10 day output [[0.6591443]]\n",
      "11 day input [0.86015611 0.87024868 0.87149513 0.87654142 0.86837902 0.88253161\n",
      " 0.8965753  0.91130877 0.9171598  0.9051673  0.91985236 0.92167968\n",
      " 0.91993707 0.92666546 0.93033823 0.9236038  0.92199431 0.92511043\n",
      " 0.93323047 0.94876263 0.94354087 0.93227446 0.92246022 0.93074363\n",
      " 0.92897078 0.93735705 0.94530163 0.95138259 0.9562534  0.9557996\n",
      " 0.95330671 0.94102378 0.93415623 0.94506565 0.93200218 0.94550735\n",
      " 0.95121922 0.9554063  0.95898227 0.95829249 0.95536395 0.96607975\n",
      " 0.97942155 0.97989351 0.98988927 0.98207781 0.98231379 0.97940945\n",
      " 0.97449628 0.96811279 0.96425849 0.96755612 0.97406668 0.9746899\n",
      " 0.98392328 0.98440733 0.97461729 0.98400194 0.98620439 1.\n",
      " 0.99934652 0.9931143  0.99080898 0.98500635 0.98986507 0.98985297\n",
      " 0.99627277 0.99557088 0.99682943 0.98236825 0.97266292 0.97197313\n",
      " 0.9694984  0.91222242 0.87754583 0.90099837 0.89111151 0.92688933\n",
      " 0.92645973 0.90199673 0.90139166 0.89419132 0.8850003  0.83381739\n",
      " 0.86375023 0.83538452 0.82483209 0.84986991 0.86748351 0.79301894\n",
      " 0.78946835 0.77930468 0.76516873 0.74932951 0.73310667 0.71712625\n",
      " 0.70165259 0.68679887 0.6726197  0.65914428]\n",
      "11 day output [[0.64638215]]\n",
      "12 day input [0.87024868 0.87149513 0.87654142 0.86837902 0.88253161 0.8965753\n",
      " 0.91130877 0.9171598  0.9051673  0.91985236 0.92167968 0.91993707\n",
      " 0.92666546 0.93033823 0.9236038  0.92199431 0.92511043 0.93323047\n",
      " 0.94876263 0.94354087 0.93227446 0.92246022 0.93074363 0.92897078\n",
      " 0.93735705 0.94530163 0.95138259 0.9562534  0.9557996  0.95330671\n",
      " 0.94102378 0.93415623 0.94506565 0.93200218 0.94550735 0.95121922\n",
      " 0.9554063  0.95898227 0.95829249 0.95536395 0.96607975 0.97942155\n",
      " 0.97989351 0.98988927 0.98207781 0.98231379 0.97940945 0.97449628\n",
      " 0.96811279 0.96425849 0.96755612 0.97406668 0.9746899  0.98392328\n",
      " 0.98440733 0.97461729 0.98400194 0.98620439 1.         0.99934652\n",
      " 0.9931143  0.99080898 0.98500635 0.98986507 0.98985297 0.99627277\n",
      " 0.99557088 0.99682943 0.98236825 0.97266292 0.97197313 0.9694984\n",
      " 0.91222242 0.87754583 0.90099837 0.89111151 0.92688933 0.92645973\n",
      " 0.90199673 0.90139166 0.89419132 0.8850003  0.83381739 0.86375023\n",
      " 0.83538452 0.82483209 0.84986991 0.86748351 0.79301894 0.78946835\n",
      " 0.77930468 0.76516873 0.74932951 0.73310667 0.71712625 0.70165259\n",
      " 0.68679887 0.6726197  0.65914428 0.64638215]\n",
      "12 day output [[0.63432735]]\n",
      "13 day input [0.87149513 0.87654142 0.86837902 0.88253161 0.8965753  0.91130877\n",
      " 0.9171598  0.9051673  0.91985236 0.92167968 0.91993707 0.92666546\n",
      " 0.93033823 0.9236038  0.92199431 0.92511043 0.93323047 0.94876263\n",
      " 0.94354087 0.93227446 0.92246022 0.93074363 0.92897078 0.93735705\n",
      " 0.94530163 0.95138259 0.9562534  0.9557996  0.95330671 0.94102378\n",
      " 0.93415623 0.94506565 0.93200218 0.94550735 0.95121922 0.9554063\n",
      " 0.95898227 0.95829249 0.95536395 0.96607975 0.97942155 0.97989351\n",
      " 0.98988927 0.98207781 0.98231379 0.97940945 0.97449628 0.96811279\n",
      " 0.96425849 0.96755612 0.97406668 0.9746899  0.98392328 0.98440733\n",
      " 0.97461729 0.98400194 0.98620439 1.         0.99934652 0.9931143\n",
      " 0.99080898 0.98500635 0.98986507 0.98985297 0.99627277 0.99557088\n",
      " 0.99682943 0.98236825 0.97266292 0.97197313 0.9694984  0.91222242\n",
      " 0.87754583 0.90099837 0.89111151 0.92688933 0.92645973 0.90199673\n",
      " 0.90139166 0.89419132 0.8850003  0.83381739 0.86375023 0.83538452\n",
      " 0.82483209 0.84986991 0.86748351 0.79301894 0.78946835 0.77930468\n",
      " 0.76516873 0.74932951 0.73310667 0.71712625 0.70165259 0.68679887\n",
      " 0.6726197  0.65914428 0.64638215 0.63432735]\n",
      "13 day output [[0.6229584]]\n",
      "14 day input [0.87654142 0.86837902 0.88253161 0.8965753  0.91130877 0.9171598\n",
      " 0.9051673  0.91985236 0.92167968 0.91993707 0.92666546 0.93033823\n",
      " 0.9236038  0.92199431 0.92511043 0.93323047 0.94876263 0.94354087\n",
      " 0.93227446 0.92246022 0.93074363 0.92897078 0.93735705 0.94530163\n",
      " 0.95138259 0.9562534  0.9557996  0.95330671 0.94102378 0.93415623\n",
      " 0.94506565 0.93200218 0.94550735 0.95121922 0.9554063  0.95898227\n",
      " 0.95829249 0.95536395 0.96607975 0.97942155 0.97989351 0.98988927\n",
      " 0.98207781 0.98231379 0.97940945 0.97449628 0.96811279 0.96425849\n",
      " 0.96755612 0.97406668 0.9746899  0.98392328 0.98440733 0.97461729\n",
      " 0.98400194 0.98620439 1.         0.99934652 0.9931143  0.99080898\n",
      " 0.98500635 0.98986507 0.98985297 0.99627277 0.99557088 0.99682943\n",
      " 0.98236825 0.97266292 0.97197313 0.9694984  0.91222242 0.87754583\n",
      " 0.90099837 0.89111151 0.92688933 0.92645973 0.90199673 0.90139166\n",
      " 0.89419132 0.8850003  0.83381739 0.86375023 0.83538452 0.82483209\n",
      " 0.84986991 0.86748351 0.79301894 0.78946835 0.77930468 0.76516873\n",
      " 0.74932951 0.73310667 0.71712625 0.70165259 0.68679887 0.6726197\n",
      " 0.65914428 0.64638215 0.63432735 0.62295842]\n",
      "14 day output [[0.6122438]]\n",
      "15 day input [0.86837902 0.88253161 0.8965753  0.91130877 0.9171598  0.9051673\n",
      " 0.91985236 0.92167968 0.91993707 0.92666546 0.93033823 0.9236038\n",
      " 0.92199431 0.92511043 0.93323047 0.94876263 0.94354087 0.93227446\n",
      " 0.92246022 0.93074363 0.92897078 0.93735705 0.94530163 0.95138259\n",
      " 0.9562534  0.9557996  0.95330671 0.94102378 0.93415623 0.94506565\n",
      " 0.93200218 0.94550735 0.95121922 0.9554063  0.95898227 0.95829249\n",
      " 0.95536395 0.96607975 0.97942155 0.97989351 0.98988927 0.98207781\n",
      " 0.98231379 0.97940945 0.97449628 0.96811279 0.96425849 0.96755612\n",
      " 0.97406668 0.9746899  0.98392328 0.98440733 0.97461729 0.98400194\n",
      " 0.98620439 1.         0.99934652 0.9931143  0.99080898 0.98500635\n",
      " 0.98986507 0.98985297 0.99627277 0.99557088 0.99682943 0.98236825\n",
      " 0.97266292 0.97197313 0.9694984  0.91222242 0.87754583 0.90099837\n",
      " 0.89111151 0.92688933 0.92645973 0.90199673 0.90139166 0.89419132\n",
      " 0.8850003  0.83381739 0.86375023 0.83538452 0.82483209 0.84986991\n",
      " 0.86748351 0.79301894 0.78946835 0.77930468 0.76516873 0.74932951\n",
      " 0.73310667 0.71712625 0.70165259 0.68679887 0.6726197  0.65914428\n",
      " 0.64638215 0.63432735 0.62295842 0.61224377]\n",
      "15 day output [[0.602145]]\n",
      "16 day input [0.88253161 0.8965753  0.91130877 0.9171598  0.9051673  0.91985236\n",
      " 0.92167968 0.91993707 0.92666546 0.93033823 0.9236038  0.92199431\n",
      " 0.92511043 0.93323047 0.94876263 0.94354087 0.93227446 0.92246022\n",
      " 0.93074363 0.92897078 0.93735705 0.94530163 0.95138259 0.9562534\n",
      " 0.9557996  0.95330671 0.94102378 0.93415623 0.94506565 0.93200218\n",
      " 0.94550735 0.95121922 0.9554063  0.95898227 0.95829249 0.95536395\n",
      " 0.96607975 0.97942155 0.97989351 0.98988927 0.98207781 0.98231379\n",
      " 0.97940945 0.97449628 0.96811279 0.96425849 0.96755612 0.97406668\n",
      " 0.9746899  0.98392328 0.98440733 0.97461729 0.98400194 0.98620439\n",
      " 1.         0.99934652 0.9931143  0.99080898 0.98500635 0.98986507\n",
      " 0.98985297 0.99627277 0.99557088 0.99682943 0.98236825 0.97266292\n",
      " 0.97197313 0.9694984  0.91222242 0.87754583 0.90099837 0.89111151\n",
      " 0.92688933 0.92645973 0.90199673 0.90139166 0.89419132 0.8850003\n",
      " 0.83381739 0.86375023 0.83538452 0.82483209 0.84986991 0.86748351\n",
      " 0.79301894 0.78946835 0.77930468 0.76516873 0.74932951 0.73310667\n",
      " 0.71712625 0.70165259 0.68679887 0.6726197  0.65914428 0.64638215\n",
      " 0.63432735 0.62295842 0.61224377 0.60214502]\n",
      "16 day output [[0.59262264]]\n",
      "17 day input [0.8965753  0.91130877 0.9171598  0.9051673  0.91985236 0.92167968\n",
      " 0.91993707 0.92666546 0.93033823 0.9236038  0.92199431 0.92511043\n",
      " 0.93323047 0.94876263 0.94354087 0.93227446 0.92246022 0.93074363\n",
      " 0.92897078 0.93735705 0.94530163 0.95138259 0.9562534  0.9557996\n",
      " 0.95330671 0.94102378 0.93415623 0.94506565 0.93200218 0.94550735\n",
      " 0.95121922 0.9554063  0.95898227 0.95829249 0.95536395 0.96607975\n",
      " 0.97942155 0.97989351 0.98988927 0.98207781 0.98231379 0.97940945\n",
      " 0.97449628 0.96811279 0.96425849 0.96755612 0.97406668 0.9746899\n",
      " 0.98392328 0.98440733 0.97461729 0.98400194 0.98620439 1.\n",
      " 0.99934652 0.9931143  0.99080898 0.98500635 0.98986507 0.98985297\n",
      " 0.99627277 0.99557088 0.99682943 0.98236825 0.97266292 0.97197313\n",
      " 0.9694984  0.91222242 0.87754583 0.90099837 0.89111151 0.92688933\n",
      " 0.92645973 0.90199673 0.90139166 0.89419132 0.8850003  0.83381739\n",
      " 0.86375023 0.83538452 0.82483209 0.84986991 0.86748351 0.79301894\n",
      " 0.78946835 0.77930468 0.76516873 0.74932951 0.73310667 0.71712625\n",
      " 0.70165259 0.68679887 0.6726197  0.65914428 0.64638215 0.63432735\n",
      " 0.62295842 0.61224377 0.60214502 0.59262264]\n",
      "17 day output [[0.5836365]]\n",
      "18 day input [0.91130877 0.9171598  0.9051673  0.91985236 0.92167968 0.91993707\n",
      " 0.92666546 0.93033823 0.9236038  0.92199431 0.92511043 0.93323047\n",
      " 0.94876263 0.94354087 0.93227446 0.92246022 0.93074363 0.92897078\n",
      " 0.93735705 0.94530163 0.95138259 0.9562534  0.9557996  0.95330671\n",
      " 0.94102378 0.93415623 0.94506565 0.93200218 0.94550735 0.95121922\n",
      " 0.9554063  0.95898227 0.95829249 0.95536395 0.96607975 0.97942155\n",
      " 0.97989351 0.98988927 0.98207781 0.98231379 0.97940945 0.97449628\n",
      " 0.96811279 0.96425849 0.96755612 0.97406668 0.9746899  0.98392328\n",
      " 0.98440733 0.97461729 0.98400194 0.98620439 1.         0.99934652\n",
      " 0.9931143  0.99080898 0.98500635 0.98986507 0.98985297 0.99627277\n",
      " 0.99557088 0.99682943 0.98236825 0.97266292 0.97197313 0.9694984\n",
      " 0.91222242 0.87754583 0.90099837 0.89111151 0.92688933 0.92645973\n",
      " 0.90199673 0.90139166 0.89419132 0.8850003  0.83381739 0.86375023\n",
      " 0.83538452 0.82483209 0.84986991 0.86748351 0.79301894 0.78946835\n",
      " 0.77930468 0.76516873 0.74932951 0.73310667 0.71712625 0.70165259\n",
      " 0.68679887 0.6726197  0.65914428 0.64638215 0.63432735 0.62295842\n",
      " 0.61224377 0.60214502 0.59262264 0.58363652]\n",
      "18 day output [[0.57514954]]\n",
      "19 day input [0.9171598  0.9051673  0.91985236 0.92167968 0.91993707 0.92666546\n",
      " 0.93033823 0.9236038  0.92199431 0.92511043 0.93323047 0.94876263\n",
      " 0.94354087 0.93227446 0.92246022 0.93074363 0.92897078 0.93735705\n",
      " 0.94530163 0.95138259 0.9562534  0.9557996  0.95330671 0.94102378\n",
      " 0.93415623 0.94506565 0.93200218 0.94550735 0.95121922 0.9554063\n",
      " 0.95898227 0.95829249 0.95536395 0.96607975 0.97942155 0.97989351\n",
      " 0.98988927 0.98207781 0.98231379 0.97940945 0.97449628 0.96811279\n",
      " 0.96425849 0.96755612 0.97406668 0.9746899  0.98392328 0.98440733\n",
      " 0.97461729 0.98400194 0.98620439 1.         0.99934652 0.9931143\n",
      " 0.99080898 0.98500635 0.98986507 0.98985297 0.99627277 0.99557088\n",
      " 0.99682943 0.98236825 0.97266292 0.97197313 0.9694984  0.91222242\n",
      " 0.87754583 0.90099837 0.89111151 0.92688933 0.92645973 0.90199673\n",
      " 0.90139166 0.89419132 0.8850003  0.83381739 0.86375023 0.83538452\n",
      " 0.82483209 0.84986991 0.86748351 0.79301894 0.78946835 0.77930468\n",
      " 0.76516873 0.74932951 0.73310667 0.71712625 0.70165259 0.68679887\n",
      " 0.6726197  0.65914428 0.64638215 0.63432735 0.62295842 0.61224377\n",
      " 0.60214502 0.59262264 0.58363652 0.57514954]\n",
      "19 day output [[0.5671286]]\n",
      "20 day input [0.9051673  0.91985236 0.92167968 0.91993707 0.92666546 0.93033823\n",
      " 0.9236038  0.92199431 0.92511043 0.93323047 0.94876263 0.94354087\n",
      " 0.93227446 0.92246022 0.93074363 0.92897078 0.93735705 0.94530163\n",
      " 0.95138259 0.9562534  0.9557996  0.95330671 0.94102378 0.93415623\n",
      " 0.94506565 0.93200218 0.94550735 0.95121922 0.9554063  0.95898227\n",
      " 0.95829249 0.95536395 0.96607975 0.97942155 0.97989351 0.98988927\n",
      " 0.98207781 0.98231379 0.97940945 0.97449628 0.96811279 0.96425849\n",
      " 0.96755612 0.97406668 0.9746899  0.98392328 0.98440733 0.97461729\n",
      " 0.98400194 0.98620439 1.         0.99934652 0.9931143  0.99080898\n",
      " 0.98500635 0.98986507 0.98985297 0.99627277 0.99557088 0.99682943\n",
      " 0.98236825 0.97266292 0.97197313 0.9694984  0.91222242 0.87754583\n",
      " 0.90099837 0.89111151 0.92688933 0.92645973 0.90199673 0.90139166\n",
      " 0.89419132 0.8850003  0.83381739 0.86375023 0.83538452 0.82483209\n",
      " 0.84986991 0.86748351 0.79301894 0.78946835 0.77930468 0.76516873\n",
      " 0.74932951 0.73310667 0.71712625 0.70165259 0.68679887 0.6726197\n",
      " 0.65914428 0.64638215 0.63432735 0.62295842 0.61224377 0.60214502\n",
      " 0.59262264 0.58363652 0.57514954 0.5671286 ]\n",
      "20 day output [[0.5595448]]\n",
      "21 day input [0.91985236 0.92167968 0.91993707 0.92666546 0.93033823 0.9236038\n",
      " 0.92199431 0.92511043 0.93323047 0.94876263 0.94354087 0.93227446\n",
      " 0.92246022 0.93074363 0.92897078 0.93735705 0.94530163 0.95138259\n",
      " 0.9562534  0.9557996  0.95330671 0.94102378 0.93415623 0.94506565\n",
      " 0.93200218 0.94550735 0.95121922 0.9554063  0.95898227 0.95829249\n",
      " 0.95536395 0.96607975 0.97942155 0.97989351 0.98988927 0.98207781\n",
      " 0.98231379 0.97940945 0.97449628 0.96811279 0.96425849 0.96755612\n",
      " 0.97406668 0.9746899  0.98392328 0.98440733 0.97461729 0.98400194\n",
      " 0.98620439 1.         0.99934652 0.9931143  0.99080898 0.98500635\n",
      " 0.98986507 0.98985297 0.99627277 0.99557088 0.99682943 0.98236825\n",
      " 0.97266292 0.97197313 0.9694984  0.91222242 0.87754583 0.90099837\n",
      " 0.89111151 0.92688933 0.92645973 0.90199673 0.90139166 0.89419132\n",
      " 0.8850003  0.83381739 0.86375023 0.83538452 0.82483209 0.84986991\n",
      " 0.86748351 0.79301894 0.78946835 0.77930468 0.76516873 0.74932951\n",
      " 0.73310667 0.71712625 0.70165259 0.68679887 0.6726197  0.65914428\n",
      " 0.64638215 0.63432735 0.62295842 0.61224377 0.60214502 0.59262264\n",
      " 0.58363652 0.57514954 0.5671286  0.5595448 ]\n",
      "21 day output [[0.5523741]]\n",
      "22 day input [0.92167968 0.91993707 0.92666546 0.93033823 0.9236038  0.92199431\n",
      " 0.92511043 0.93323047 0.94876263 0.94354087 0.93227446 0.92246022\n",
      " 0.93074363 0.92897078 0.93735705 0.94530163 0.95138259 0.9562534\n",
      " 0.9557996  0.95330671 0.94102378 0.93415623 0.94506565 0.93200218\n",
      " 0.94550735 0.95121922 0.9554063  0.95898227 0.95829249 0.95536395\n",
      " 0.96607975 0.97942155 0.97989351 0.98988927 0.98207781 0.98231379\n",
      " 0.97940945 0.97449628 0.96811279 0.96425849 0.96755612 0.97406668\n",
      " 0.9746899  0.98392328 0.98440733 0.97461729 0.98400194 0.98620439\n",
      " 1.         0.99934652 0.9931143  0.99080898 0.98500635 0.98986507\n",
      " 0.98985297 0.99627277 0.99557088 0.99682943 0.98236825 0.97266292\n",
      " 0.97197313 0.9694984  0.91222242 0.87754583 0.90099837 0.89111151\n",
      " 0.92688933 0.92645973 0.90199673 0.90139166 0.89419132 0.8850003\n",
      " 0.83381739 0.86375023 0.83538452 0.82483209 0.84986991 0.86748351\n",
      " 0.79301894 0.78946835 0.77930468 0.76516873 0.74932951 0.73310667\n",
      " 0.71712625 0.70165259 0.68679887 0.6726197  0.65914428 0.64638215\n",
      " 0.63432735 0.62295842 0.61224377 0.60214502 0.59262264 0.58363652\n",
      " 0.57514954 0.5671286  0.5595448  0.55237412]\n",
      "22 day output [[0.54559535]]\n",
      "23 day input [0.91993707 0.92666546 0.93033823 0.9236038  0.92199431 0.92511043\n",
      " 0.93323047 0.94876263 0.94354087 0.93227446 0.92246022 0.93074363\n",
      " 0.92897078 0.93735705 0.94530163 0.95138259 0.9562534  0.9557996\n",
      " 0.95330671 0.94102378 0.93415623 0.94506565 0.93200218 0.94550735\n",
      " 0.95121922 0.9554063  0.95898227 0.95829249 0.95536395 0.96607975\n",
      " 0.97942155 0.97989351 0.98988927 0.98207781 0.98231379 0.97940945\n",
      " 0.97449628 0.96811279 0.96425849 0.96755612 0.97406668 0.9746899\n",
      " 0.98392328 0.98440733 0.97461729 0.98400194 0.98620439 1.\n",
      " 0.99934652 0.9931143  0.99080898 0.98500635 0.98986507 0.98985297\n",
      " 0.99627277 0.99557088 0.99682943 0.98236825 0.97266292 0.97197313\n",
      " 0.9694984  0.91222242 0.87754583 0.90099837 0.89111151 0.92688933\n",
      " 0.92645973 0.90199673 0.90139166 0.89419132 0.8850003  0.83381739\n",
      " 0.86375023 0.83538452 0.82483209 0.84986991 0.86748351 0.79301894\n",
      " 0.78946835 0.77930468 0.76516873 0.74932951 0.73310667 0.71712625\n",
      " 0.70165259 0.68679887 0.6726197  0.65914428 0.64638215 0.63432735\n",
      " 0.62295842 0.61224377 0.60214502 0.59262264 0.58363652 0.57514954\n",
      " 0.5671286  0.5595448  0.55237412 0.54559535]\n",
      "23 day output [[0.5391912]]\n",
      "24 day input [0.92666546 0.93033823 0.9236038  0.92199431 0.92511043 0.93323047\n",
      " 0.94876263 0.94354087 0.93227446 0.92246022 0.93074363 0.92897078\n",
      " 0.93735705 0.94530163 0.95138259 0.9562534  0.9557996  0.95330671\n",
      " 0.94102378 0.93415623 0.94506565 0.93200218 0.94550735 0.95121922\n",
      " 0.9554063  0.95898227 0.95829249 0.95536395 0.96607975 0.97942155\n",
      " 0.97989351 0.98988927 0.98207781 0.98231379 0.97940945 0.97449628\n",
      " 0.96811279 0.96425849 0.96755612 0.97406668 0.9746899  0.98392328\n",
      " 0.98440733 0.97461729 0.98400194 0.98620439 1.         0.99934652\n",
      " 0.9931143  0.99080898 0.98500635 0.98986507 0.98985297 0.99627277\n",
      " 0.99557088 0.99682943 0.98236825 0.97266292 0.97197313 0.9694984\n",
      " 0.91222242 0.87754583 0.90099837 0.89111151 0.92688933 0.92645973\n",
      " 0.90199673 0.90139166 0.89419132 0.8850003  0.83381739 0.86375023\n",
      " 0.83538452 0.82483209 0.84986991 0.86748351 0.79301894 0.78946835\n",
      " 0.77930468 0.76516873 0.74932951 0.73310667 0.71712625 0.70165259\n",
      " 0.68679887 0.6726197  0.65914428 0.64638215 0.63432735 0.62295842\n",
      " 0.61224377 0.60214502 0.59262264 0.58363652 0.57514954 0.5671286\n",
      " 0.5595448  0.55237412 0.54559535 0.53919119]\n",
      "24 day output [[0.53314686]]\n",
      "25 day input [0.93033823 0.9236038  0.92199431 0.92511043 0.93323047 0.94876263\n",
      " 0.94354087 0.93227446 0.92246022 0.93074363 0.92897078 0.93735705\n",
      " 0.94530163 0.95138259 0.9562534  0.9557996  0.95330671 0.94102378\n",
      " 0.93415623 0.94506565 0.93200218 0.94550735 0.95121922 0.9554063\n",
      " 0.95898227 0.95829249 0.95536395 0.96607975 0.97942155 0.97989351\n",
      " 0.98988927 0.98207781 0.98231379 0.97940945 0.97449628 0.96811279\n",
      " 0.96425849 0.96755612 0.97406668 0.9746899  0.98392328 0.98440733\n",
      " 0.97461729 0.98400194 0.98620439 1.         0.99934652 0.9931143\n",
      " 0.99080898 0.98500635 0.98986507 0.98985297 0.99627277 0.99557088\n",
      " 0.99682943 0.98236825 0.97266292 0.97197313 0.9694984  0.91222242\n",
      " 0.87754583 0.90099837 0.89111151 0.92688933 0.92645973 0.90199673\n",
      " 0.90139166 0.89419132 0.8850003  0.83381739 0.86375023 0.83538452\n",
      " 0.82483209 0.84986991 0.86748351 0.79301894 0.78946835 0.77930468\n",
      " 0.76516873 0.74932951 0.73310667 0.71712625 0.70165259 0.68679887\n",
      " 0.6726197  0.65914428 0.64638215 0.63432735 0.62295842 0.61224377\n",
      " 0.60214502 0.59262264 0.58363652 0.57514954 0.5671286  0.5595448\n",
      " 0.55237412 0.54559535 0.53919119 0.53314686]\n",
      "25 day output [[0.5274488]]\n",
      "26 day input [0.9236038  0.92199431 0.92511043 0.93323047 0.94876263 0.94354087\n",
      " 0.93227446 0.92246022 0.93074363 0.92897078 0.93735705 0.94530163\n",
      " 0.95138259 0.9562534  0.9557996  0.95330671 0.94102378 0.93415623\n",
      " 0.94506565 0.93200218 0.94550735 0.95121922 0.9554063  0.95898227\n",
      " 0.95829249 0.95536395 0.96607975 0.97942155 0.97989351 0.98988927\n",
      " 0.98207781 0.98231379 0.97940945 0.97449628 0.96811279 0.96425849\n",
      " 0.96755612 0.97406668 0.9746899  0.98392328 0.98440733 0.97461729\n",
      " 0.98400194 0.98620439 1.         0.99934652 0.9931143  0.99080898\n",
      " 0.98500635 0.98986507 0.98985297 0.99627277 0.99557088 0.99682943\n",
      " 0.98236825 0.97266292 0.97197313 0.9694984  0.91222242 0.87754583\n",
      " 0.90099837 0.89111151 0.92688933 0.92645973 0.90199673 0.90139166\n",
      " 0.89419132 0.8850003  0.83381739 0.86375023 0.83538452 0.82483209\n",
      " 0.84986991 0.86748351 0.79301894 0.78946835 0.77930468 0.76516873\n",
      " 0.74932951 0.73310667 0.71712625 0.70165259 0.68679887 0.6726197\n",
      " 0.65914428 0.64638215 0.63432735 0.62295842 0.61224377 0.60214502\n",
      " 0.59262264 0.58363652 0.57514954 0.5671286  0.5595448  0.55237412\n",
      " 0.54559535 0.53919119 0.53314686 0.52744877]\n",
      "26 day output [[0.5220854]]\n",
      "27 day input [0.92199431 0.92511043 0.93323047 0.94876263 0.94354087 0.93227446\n",
      " 0.92246022 0.93074363 0.92897078 0.93735705 0.94530163 0.95138259\n",
      " 0.9562534  0.9557996  0.95330671 0.94102378 0.93415623 0.94506565\n",
      " 0.93200218 0.94550735 0.95121922 0.9554063  0.95898227 0.95829249\n",
      " 0.95536395 0.96607975 0.97942155 0.97989351 0.98988927 0.98207781\n",
      " 0.98231379 0.97940945 0.97449628 0.96811279 0.96425849 0.96755612\n",
      " 0.97406668 0.9746899  0.98392328 0.98440733 0.97461729 0.98400194\n",
      " 0.98620439 1.         0.99934652 0.9931143  0.99080898 0.98500635\n",
      " 0.98986507 0.98985297 0.99627277 0.99557088 0.99682943 0.98236825\n",
      " 0.97266292 0.97197313 0.9694984  0.91222242 0.87754583 0.90099837\n",
      " 0.89111151 0.92688933 0.92645973 0.90199673 0.90139166 0.89419132\n",
      " 0.8850003  0.83381739 0.86375023 0.83538452 0.82483209 0.84986991\n",
      " 0.86748351 0.79301894 0.78946835 0.77930468 0.76516873 0.74932951\n",
      " 0.73310667 0.71712625 0.70165259 0.68679887 0.6726197  0.65914428\n",
      " 0.64638215 0.63432735 0.62295842 0.61224377 0.60214502 0.59262264\n",
      " 0.58363652 0.57514954 0.5671286  0.5595448  0.55237412 0.54559535\n",
      " 0.53919119 0.53314686 0.52744877 0.52208543]\n",
      "27 day output [[0.5170454]]\n",
      "28 day input [0.92511043 0.93323047 0.94876263 0.94354087 0.93227446 0.92246022\n",
      " 0.93074363 0.92897078 0.93735705 0.94530163 0.95138259 0.9562534\n",
      " 0.9557996  0.95330671 0.94102378 0.93415623 0.94506565 0.93200218\n",
      " 0.94550735 0.95121922 0.9554063  0.95898227 0.95829249 0.95536395\n",
      " 0.96607975 0.97942155 0.97989351 0.98988927 0.98207781 0.98231379\n",
      " 0.97940945 0.97449628 0.96811279 0.96425849 0.96755612 0.97406668\n",
      " 0.9746899  0.98392328 0.98440733 0.97461729 0.98400194 0.98620439\n",
      " 1.         0.99934652 0.9931143  0.99080898 0.98500635 0.98986507\n",
      " 0.98985297 0.99627277 0.99557088 0.99682943 0.98236825 0.97266292\n",
      " 0.97197313 0.9694984  0.91222242 0.87754583 0.90099837 0.89111151\n",
      " 0.92688933 0.92645973 0.90199673 0.90139166 0.89419132 0.8850003\n",
      " 0.83381739 0.86375023 0.83538452 0.82483209 0.84986991 0.86748351\n",
      " 0.79301894 0.78946835 0.77930468 0.76516873 0.74932951 0.73310667\n",
      " 0.71712625 0.70165259 0.68679887 0.6726197  0.65914428 0.64638215\n",
      " 0.63432735 0.62295842 0.61224377 0.60214502 0.59262264 0.58363652\n",
      " 0.57514954 0.5671286  0.5595448  0.55237412 0.54559535 0.53919119\n",
      " 0.53314686 0.52744877 0.52208543 0.51704538]\n",
      "28 day output [[0.5123178]]\n",
      "29 day input [0.93323047 0.94876263 0.94354087 0.93227446 0.92246022 0.93074363\n",
      " 0.92897078 0.93735705 0.94530163 0.95138259 0.9562534  0.9557996\n",
      " 0.95330671 0.94102378 0.93415623 0.94506565 0.93200218 0.94550735\n",
      " 0.95121922 0.9554063  0.95898227 0.95829249 0.95536395 0.96607975\n",
      " 0.97942155 0.97989351 0.98988927 0.98207781 0.98231379 0.97940945\n",
      " 0.97449628 0.96811279 0.96425849 0.96755612 0.97406668 0.9746899\n",
      " 0.98392328 0.98440733 0.97461729 0.98400194 0.98620439 1.\n",
      " 0.99934652 0.9931143  0.99080898 0.98500635 0.98986507 0.98985297\n",
      " 0.99627277 0.99557088 0.99682943 0.98236825 0.97266292 0.97197313\n",
      " 0.9694984  0.91222242 0.87754583 0.90099837 0.89111151 0.92688933\n",
      " 0.92645973 0.90199673 0.90139166 0.89419132 0.8850003  0.83381739\n",
      " 0.86375023 0.83538452 0.82483209 0.84986991 0.86748351 0.79301894\n",
      " 0.78946835 0.77930468 0.76516873 0.74932951 0.73310667 0.71712625\n",
      " 0.70165259 0.68679887 0.6726197  0.65914428 0.64638215 0.63432735\n",
      " 0.62295842 0.61224377 0.60214502 0.59262264 0.58363652 0.57514954\n",
      " 0.5671286  0.5595448  0.55237412 0.54559535 0.53919119 0.53314686\n",
      " 0.52744877 0.52208543 0.51704538 0.51231778]\n",
      "29 day output [[0.50789076]]\n",
      "[[0.7930189371109009], [0.7894683480262756], [0.7793046832084656], [0.7651687264442444], [0.7493295073509216], [0.7331066727638245], [0.7171262502670288], [0.7016525864601135], [0.6867988705635071], [0.6726197004318237], [0.6591442823410034], [0.6463821530342102], [0.6343273520469666], [0.6229584217071533], [0.6122437715530396], [0.6021450161933899], [0.5926226377487183], [0.5836365222930908], [0.5751495361328125], [0.567128598690033], [0.5595448017120361], [0.5523741245269775], [0.5455953478813171], [0.5391911864280701], [0.533146858215332], [0.5274487733840942], [0.522085428237915], [0.5170453786849976], [0.5123177766799927], [0.5078907608985901]]\n"
     ]
    }
   ],
   "source": [
    "# demonstrate prediction for next 30 days\n",
    "\n",
    "\n",
    "lst_output=[]\n",
    "n_steps=100\n",
    "i=0\n",
    "while(i<30):\n",
    "    \n",
    "    if(len(temp_input)>100):\n",
    "        #print(temp_input)\n",
    "        x_input=np.array(temp_input[1:])\n",
    "        print(\"{} day input {}\".format(i,x_input))\n",
    "        x_input=x_input.reshape(1,-1)\n",
    "        x_input = x_input.reshape((1, n_steps, 1))\n",
    "        #print(x_input)\n",
    "        yhat = model.predict(x_input, verbose=0)\n",
    "        print(\"{} day output {}\".format(i,yhat))\n",
    "        temp_input.extend(yhat[0].tolist())\n",
    "        temp_input=temp_input[1:]\n",
    "        #print(temp_input)\n",
    "        lst_output.extend(yhat.tolist())\n",
    "        i=i+1\n",
    "    else:\n",
    "        x_input = x_input.reshape((1, n_steps,1))\n",
    "        yhat = model.predict(x_input, verbose=0)\n",
    "        print(yhat[0])\n",
    "        temp_input.extend(yhat[0].tolist())\n",
    "        print(len(temp_input))\n",
    "        lst_output.extend(yhat.tolist())\n",
    "        i=i+1\n",
    "    \n",
    "\n",
    "print(lst_output)"
   ]
  },
  {
   "cell_type": "code",
   "execution_count": 35,
   "metadata": {
    "id": "bfPJf9R7zwGj"
   },
   "outputs": [],
   "source": [
    "day_new=np.arange(1,101)\n",
    "day_pred=np.arange(1,131)"
   ]
  },
  {
   "cell_type": "code",
   "execution_count": 36,
   "metadata": {
    "colab": {
     "base_uri": "https://localhost:8080/"
    },
    "id": "m4jS9gDenYaw",
    "outputId": "2e8b7734-bf11-423b-f32d-3b3b317027f7"
   },
   "outputs": [
    {
     "data": {
      "text/plain": [
       "1637"
      ]
     },
     "execution_count": 36,
     "metadata": {},
     "output_type": "execute_result"
    }
   ],
   "source": [
    "import matplotlib.pyplot as plt\n",
    "len(df1)"
   ]
  },
  {
   "cell_type": "code",
   "execution_count": 40,
   "metadata": {
    "colab": {
     "base_uri": "https://localhost:8080/",
     "height": 282
    },
    "id": "2ScpjJch0f6-",
    "outputId": "87db44d1-a19a-43ed-d1aa-1e93660dea53"
   },
   "outputs": [
    {
     "data": {
      "text/plain": [
       "[<matplotlib.lines.Line2D at 0x7f798bb7c350>]"
      ]
     },
     "execution_count": 40,
     "metadata": {},
     "output_type": "execute_result"
    },
    {
     "data": {
      "image/png": "[encoded data removed]",
      "text/plain": [
       "<Figure size 432x288 with 1 Axes>"
      ]
     },
     "metadata": {
      "needs_background": "light"
     },
     "output_type": "display_data"
    }
   ],
   "source": [
    "plt.plot(day_new,scaler.inverse_transform(df1[1537:]))\n"
   ]
  },
  {
   "cell_type": "code",
   "execution_count": 39,
   "metadata": {
    "colab": {
     "base_uri": "https://localhost:8080/",
     "height": 282
    },
    "id": "jIrRQv500f9e",
    "outputId": "0bc9a903-9f7f-4f7e-f1ea-cf46813ce88c"
   },
   "outputs": [
    {
     "data": {
      "text/plain": [
       "[<matplotlib.lines.Line2D at 0x7f798bf188d0>]"
      ]
     },
     "execution_count": 39,
     "metadata": {},
     "output_type": "execute_result"
    },
    {
     "data": {
      "image/png": "[encoded data removed]",
      "text/plain": [
       "<Figure size 432x288 with 1 Axes>"
      ]
     },
     "metadata": {
      "needs_background": "light"
     },
     "output_type": "display_data"
    }
   ],
   "source": [
    "df3=df1.tolist()\n",
    "df3.extend(lst_output)\n",
    "plt.plot(df3[1200:])"
   ]
  },
  {
   "cell_type": "code",
   "execution_count": null,
   "metadata": {
    "colab": {
     "base_uri": "https://localhost:8080/",
     "height": 285
    },
    "id": "89Vhq9Jk0f_w",
    "outputId": "93c383db-617d-450e-c98d-ea30b1f4fedf"
   },
   "outputs": [
    {
     "data": {
      "text/plain": [
       "[<matplotlib.lines.Line2D at 0x7f90dfd3aa10>]"
      ]
     },
     "execution_count": 83,
     "metadata": {},
     "output_type": "execute_result"
    },
    {
     "data": {
      "image/png": "[encoded data removed]",
      "text/plain": [
       "<Figure size 432x288 with 1 Axes>"
      ]
     },
     "metadata": {
      "needs_background": "light"
     },
     "output_type": "display_data"
    }
   ],
   "source": [
    "df3=scaler.inverse_transform(df3).tolist()\n",
    "plt.plot(df3)"
   ]
  },
  {
   "cell_type": "code",
   "execution_count": null,
   "metadata": {
    "id": "ttjuPblW0gCQ"
   },
   "outputs": [],
   "source": []
  }
 ],
 "metadata": {
  "colab": {
   "name": "LSTM.ipynb",
   "provenance": []
  },
  "kernelspec": {
   "display_name": "Python 3 (ipykernel)",
   "language": "python",
   "name": "python3"
  },
  "language_info": {
   "codemirror_mode": {
    "name": "ipython",
    "version": 3
   },
   "file_extension": ".py",
   "mimetype": "text/x-python",
   "name": "python",
   "nbconvert_exporter": "python",
   "pygments_lexer": "ipython3",
   "version": "3.8.10"
  }
 },
 "nbformat": 4,
 "nbformat_minor": 1
}
