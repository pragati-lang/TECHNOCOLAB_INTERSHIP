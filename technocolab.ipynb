{
 "cells": [
  {
   "cell_type": "markdown",
   "metadata": {},
   "source": [
    "# Predicting-market-volatility-and-building-short-term-trading-strategies-using-data-from-Reddit"
   ]
  },
  {
   "cell_type": "code",
   "execution_count": 1,
   "metadata": {},
   "outputs": [],
   "source": [
    "# Required Library\n",
    "import pandas as pd\n",
    "import numpy as np\n",
    "import seaborn as sns\n",
    "import matplotlib.pyplot as plt\n",
    "import datetime\n",
    "import json\n",
    "import yfinance as yf\n",
    "import mplfinance as mpf"
   ]
  },
  {
   "cell_type": "code",
   "execution_count": 2,
   "metadata": {},
   "outputs": [
    {
     "data": {
      "text/html": [
       "<div>\n",
       "<style scoped>\n",
       "    .dataframe tbody tr th:only-of-type {\n",
       "        vertical-align: middle;\n",
       "    }\n",
       "\n",
       "    .dataframe tbody tr th {\n",
       "        vertical-align: top;\n",
       "    }\n",
       "\n",
       "    .dataframe thead th {\n",
       "        text-align: right;\n",
       "    }\n",
       "</style>\n",
       "<table border=\"1\" class=\"dataframe\">\n",
       "  <thead>\n",
       "    <tr style=\"text-align: right;\">\n",
       "      <th></th>\n",
       "      <th>VIX Index - Last Price  (L1)</th>\n",
       "      <th>(R1) Open</th>\n",
       "      <th>(R1) High</th>\n",
       "      <th>(R1) Low</th>\n",
       "      <th>(R1) Close</th>\n",
       "      <th>SMAVG (5)  on Close</th>\n",
       "      <th>UBB(2)</th>\n",
       "      <th>BollMA (20)  on Close</th>\n",
       "      <th>LBB(2)</th>\n",
       "      <th>SMAVG (50)  on Close</th>\n",
       "      <th>...</th>\n",
       "      <th>Moving Average(Exponential,14)</th>\n",
       "      <th>RSI</th>\n",
       "      <th>Moving Average</th>\n",
       "      <th>BollW (SPX)</th>\n",
       "      <th>%B (SPX)</th>\n",
       "      <th>ATR(5) (SPX)</th>\n",
       "      <th>MACD(12,26)</th>\n",
       "      <th>Sig(9)</th>\n",
       "      <th>Diff</th>\n",
       "      <th>OBV (SPX)</th>\n",
       "    </tr>\n",
       "    <tr>\n",
       "      <th>Date</th>\n",
       "      <th></th>\n",
       "      <th></th>\n",
       "      <th></th>\n",
       "      <th></th>\n",
       "      <th></th>\n",
       "      <th></th>\n",
       "      <th></th>\n",
       "      <th></th>\n",
       "      <th></th>\n",
       "      <th></th>\n",
       "      <th></th>\n",
       "      <th></th>\n",
       "      <th></th>\n",
       "      <th></th>\n",
       "      <th></th>\n",
       "      <th></th>\n",
       "      <th></th>\n",
       "      <th></th>\n",
       "      <th></th>\n",
       "      <th></th>\n",
       "      <th></th>\n",
       "    </tr>\n",
       "  </thead>\n",
       "  <tbody>\n",
       "    <tr>\n",
       "      <th>1999-01-04</th>\n",
       "      <td>26.17</td>\n",
       "      <td>1229.23</td>\n",
       "      <td>1248.81</td>\n",
       "      <td>1219.10</td>\n",
       "      <td>1228.10</td>\n",
       "      <td>1231.31</td>\n",
       "      <td>1253.41</td>\n",
       "      <td>1195.63</td>\n",
       "      <td>1137.84</td>\n",
       "      <td>1156.75</td>\n",
       "      <td>...</td>\n",
       "      <td>86.8404</td>\n",
       "      <td>64.9984</td>\n",
       "      <td>62.5017</td>\n",
       "      <td>9.6663</td>\n",
       "      <td>0.7810</td>\n",
       "      <td>19.4208</td>\n",
       "      <td>22.9841</td>\n",
       "      <td>21.0342</td>\n",
       "      <td>1.9499</td>\n",
       "      <td>8.372369e+09</td>\n",
       "    </tr>\n",
       "    <tr>\n",
       "      <th>1999-01-05</th>\n",
       "      <td>24.46</td>\n",
       "      <td>1228.10</td>\n",
       "      <td>1246.11</td>\n",
       "      <td>1228.10</td>\n",
       "      <td>1244.78</td>\n",
       "      <td>1235.17</td>\n",
       "      <td>1259.90</td>\n",
       "      <td>1199.03</td>\n",
       "      <td>1138.16</td>\n",
       "      <td>1160.07</td>\n",
       "      <td>...</td>\n",
       "      <td>87.6740</td>\n",
       "      <td>69.0716</td>\n",
       "      <td>64.0759</td>\n",
       "      <td>10.1527</td>\n",
       "      <td>0.8758</td>\n",
       "      <td>18.9505</td>\n",
       "      <td>23.6879</td>\n",
       "      <td>21.5650</td>\n",
       "      <td>2.1229</td>\n",
       "      <td>9.091570e+09</td>\n",
       "    </tr>\n",
       "    <tr>\n",
       "      <th>1999-01-06</th>\n",
       "      <td>23.34</td>\n",
       "      <td>1244.78</td>\n",
       "      <td>1272.50</td>\n",
       "      <td>1244.78</td>\n",
       "      <td>1272.34</td>\n",
       "      <td>1241.28</td>\n",
       "      <td>1271.69</td>\n",
       "      <td>1203.26</td>\n",
       "      <td>1134.83</td>\n",
       "      <td>1164.11</td>\n",
       "      <td>...</td>\n",
       "      <td>88.4970</td>\n",
       "      <td>74.3773</td>\n",
       "      <td>65.5572</td>\n",
       "      <td>11.3738</td>\n",
       "      <td>1.0048</td>\n",
       "      <td>21.8737</td>\n",
       "      <td>26.1679</td>\n",
       "      <td>22.4856</td>\n",
       "      <td>3.6823</td>\n",
       "      <td>9.993368e+09</td>\n",
       "    </tr>\n",
       "    <tr>\n",
       "      <th>1999-01-07</th>\n",
       "      <td>24.37</td>\n",
       "      <td>1272.34</td>\n",
       "      <td>1272.34</td>\n",
       "      <td>1257.68</td>\n",
       "      <td>1269.73</td>\n",
       "      <td>1248.84</td>\n",
       "      <td>1281.11</td>\n",
       "      <td>1207.68</td>\n",
       "      <td>1134.25</td>\n",
       "      <td>1168.06</td>\n",
       "      <td>...</td>\n",
       "      <td>89.2929</td>\n",
       "      <td>73.0984</td>\n",
       "      <td>66.9682</td>\n",
       "      <td>12.1607</td>\n",
       "      <td>0.9225</td>\n",
       "      <td>19.4691</td>\n",
       "      <td>27.6045</td>\n",
       "      <td>23.5093</td>\n",
       "      <td>4.0952</td>\n",
       "      <td>9.213530e+09</td>\n",
       "    </tr>\n",
       "    <tr>\n",
       "      <th>1999-01-08</th>\n",
       "      <td>23.28</td>\n",
       "      <td>1269.73</td>\n",
       "      <td>1278.05</td>\n",
       "      <td>1261.85</td>\n",
       "      <td>1275.09</td>\n",
       "      <td>1258.01</td>\n",
       "      <td>1290.36</td>\n",
       "      <td>1212.26</td>\n",
       "      <td>1134.16</td>\n",
       "      <td>1172.25</td>\n",
       "      <td>...</td>\n",
       "      <td>90.0349</td>\n",
       "      <td>74.0840</td>\n",
       "      <td>68.0927</td>\n",
       "      <td>12.8856</td>\n",
       "      <td>0.9022</td>\n",
       "      <td>18.3794</td>\n",
       "      <td>28.8430</td>\n",
       "      <td>24.5761</td>\n",
       "      <td>4.2670</td>\n",
       "      <td>1.005420e+10</td>\n",
       "    </tr>\n",
       "  </tbody>\n",
       "</table>\n",
       "<p>5 rows × 27 columns</p>\n",
       "</div>"
      ],
      "text/plain": [
       "            VIX Index - Last Price  (L1)  (R1) Open  (R1) High  (R1) Low  \\\n",
       "Date                                                                       \n",
       "1999-01-04                         26.17    1229.23    1248.81   1219.10   \n",
       "1999-01-05                         24.46    1228.10    1246.11   1228.10   \n",
       "1999-01-06                         23.34    1244.78    1272.50   1244.78   \n",
       "1999-01-07                         24.37    1272.34    1272.34   1257.68   \n",
       "1999-01-08                         23.28    1269.73    1278.05   1261.85   \n",
       "\n",
       "            (R1) Close  SMAVG (5)  on Close   UBB(2)  BollMA (20)  on Close  \\\n",
       "Date                                                                          \n",
       "1999-01-04     1228.10              1231.31  1253.41                1195.63   \n",
       "1999-01-05     1244.78              1235.17  1259.90                1199.03   \n",
       "1999-01-06     1272.34              1241.28  1271.69                1203.26   \n",
       "1999-01-07     1269.73              1248.84  1281.11                1207.68   \n",
       "1999-01-08     1275.09              1258.01  1290.36                1212.26   \n",
       "\n",
       "             LBB(2)  SMAVG (50)  on Close  ...  \\\n",
       "Date                                       ...   \n",
       "1999-01-04  1137.84               1156.75  ...   \n",
       "1999-01-05  1138.16               1160.07  ...   \n",
       "1999-01-06  1134.83               1164.11  ...   \n",
       "1999-01-07  1134.25               1168.06  ...   \n",
       "1999-01-08  1134.16               1172.25  ...   \n",
       "\n",
       "            Moving Average(Exponential,14)      RSI  Moving Average  \\\n",
       "Date                                                                  \n",
       "1999-01-04                         86.8404  64.9984         62.5017   \n",
       "1999-01-05                         87.6740  69.0716         64.0759   \n",
       "1999-01-06                         88.4970  74.3773         65.5572   \n",
       "1999-01-07                         89.2929  73.0984         66.9682   \n",
       "1999-01-08                         90.0349  74.0840         68.0927   \n",
       "\n",
       "            BollW (SPX)  %B (SPX)  ATR(5) (SPX)  MACD(12,26)   Sig(9)    Diff  \\\n",
       "Date                                                                            \n",
       "1999-01-04       9.6663    0.7810       19.4208      22.9841  21.0342  1.9499   \n",
       "1999-01-05      10.1527    0.8758       18.9505      23.6879  21.5650  2.1229   \n",
       "1999-01-06      11.3738    1.0048       21.8737      26.1679  22.4856  3.6823   \n",
       "1999-01-07      12.1607    0.9225       19.4691      27.6045  23.5093  4.0952   \n",
       "1999-01-08      12.8856    0.9022       18.3794      28.8430  24.5761  4.2670   \n",
       "\n",
       "               OBV (SPX)  \n",
       "Date                      \n",
       "1999-01-04  8.372369e+09  \n",
       "1999-01-05  9.091570e+09  \n",
       "1999-01-06  9.993368e+09  \n",
       "1999-01-07  9.213530e+09  \n",
       "1999-01-08  1.005420e+10  \n",
       "\n",
       "[5 rows x 27 columns]"
      ]
     },
     "execution_count": 2,
     "metadata": {},
     "output_type": "execute_result"
    }
   ],
   "source": [
    "data=pd.read_excel(\"SPX.xlsx\")\n",
    "data.set_index(\"Date\").head()"
   ]
  },
  {
   "cell_type": "code",
   "execution_count": 3,
   "metadata": {},
   "outputs": [
    {
     "data": {
      "text/plain": [
       "Index(['Date', 'VIX Index - Last Price  (L1)', '(R1) Open', '(R1) High',\n",
       "       '(R1) Low', '(R1) Close', 'SMAVG (5)  on Close', 'UBB(2)',\n",
       "       'BollMA (20)  on Close', 'LBB(2)', 'SMAVG (50)  on Close',\n",
       "       'SMAVG (10)  on Close', 'SMAVG (20)  on Close', 'SPX Index - Volume',\n",
       "       'SMAVG (15)', 'Mom(10)', 'MomMA(5)', 'RMI(Close,14,10)',\n",
       "       'Moving Average(Exponential,14)', 'RSI', 'Moving Average',\n",
       "       'BollW (SPX)', '%B (SPX)', 'ATR(5) (SPX)', 'MACD(12,26)', 'Sig(9)',\n",
       "       'Diff', 'OBV (SPX)'],\n",
       "      dtype='object')"
      ]
     },
     "execution_count": 3,
     "metadata": {},
     "output_type": "execute_result"
    }
   ],
   "source": [
    "data.columns"
   ]
  },
  {
   "cell_type": "code",
   "execution_count": 4,
   "metadata": {},
   "outputs": [
    {
     "data": {
      "text/plain": [
       "(5104, 28)"
      ]
     },
     "execution_count": 4,
     "metadata": {},
     "output_type": "execute_result"
    }
   ],
   "source": [
    "data.shape"
   ]
  },
  {
   "cell_type": "code",
   "execution_count": 5,
   "metadata": {},
   "outputs": [
    {
     "data": {
      "text/plain": [
       "Date                              0\n",
       "VIX Index - Last Price  (L1)      1\n",
       "(R1) Open                         1\n",
       "(R1) High                         1\n",
       "(R1) Low                          1\n",
       "(R1) Close                        1\n",
       "SMAVG (5)  on Close               1\n",
       "UBB(2)                            1\n",
       "BollMA (20)  on Close             1\n",
       "LBB(2)                            1\n",
       "SMAVG (50)  on Close              1\n",
       "SMAVG (10)  on Close              1\n",
       "SMAVG (20)  on Close              1\n",
       "SPX Index - Volume                0\n",
       "SMAVG (15)                        0\n",
       "Mom(10)                           1\n",
       "MomMA(5)                          1\n",
       "RMI(Close,14,10)                  1\n",
       "Moving Average(Exponential,14)    1\n",
       "RSI                               1\n",
       "Moving Average                    1\n",
       "BollW (SPX)                       1\n",
       "%B (SPX)                          1\n",
       "ATR(5) (SPX)                      1\n",
       "MACD(12,26)                       1\n",
       "Sig(9)                            1\n",
       "Diff                              1\n",
       "OBV (SPX)                         1\n",
       "dtype: int64"
      ]
     },
     "execution_count": 5,
     "metadata": {},
     "output_type": "execute_result"
    }
   ],
   "source": [
    "data.isnull().sum()"
   ]
  },
  {
   "cell_type": "code",
   "execution_count": 6,
   "metadata": {},
   "outputs": [
    {
     "data": {
      "text/html": [
       "<div>\n",
       "<style scoped>\n",
       "    .dataframe tbody tr th:only-of-type {\n",
       "        vertical-align: middle;\n",
       "    }\n",
       "\n",
       "    .dataframe tbody tr th {\n",
       "        vertical-align: top;\n",
       "    }\n",
       "\n",
       "    .dataframe thead th {\n",
       "        text-align: right;\n",
       "    }\n",
       "</style>\n",
       "<table border=\"1\" class=\"dataframe\">\n",
       "  <thead>\n",
       "    <tr style=\"text-align: right;\">\n",
       "      <th></th>\n",
       "      <th>Date</th>\n",
       "      <th>(R1) Open</th>\n",
       "      <th>(R1) High</th>\n",
       "      <th>(R1) Low</th>\n",
       "      <th>(R1) Close</th>\n",
       "      <th>SPX Index - Volume</th>\n",
       "    </tr>\n",
       "  </thead>\n",
       "  <tbody>\n",
       "    <tr>\n",
       "      <th>0</th>\n",
       "      <td>1999-01-04</td>\n",
       "      <td>1229.23</td>\n",
       "      <td>1248.81</td>\n",
       "      <td>1219.10</td>\n",
       "      <td>1228.10</td>\n",
       "      <td>800662720</td>\n",
       "    </tr>\n",
       "    <tr>\n",
       "      <th>1</th>\n",
       "      <td>1999-01-05</td>\n",
       "      <td>1228.10</td>\n",
       "      <td>1246.11</td>\n",
       "      <td>1228.10</td>\n",
       "      <td>1244.78</td>\n",
       "      <td>719200704</td>\n",
       "    </tr>\n",
       "    <tr>\n",
       "      <th>2</th>\n",
       "      <td>1999-01-06</td>\n",
       "      <td>1244.78</td>\n",
       "      <td>1272.50</td>\n",
       "      <td>1244.78</td>\n",
       "      <td>1272.34</td>\n",
       "      <td>901798592</td>\n",
       "    </tr>\n",
       "    <tr>\n",
       "      <th>3</th>\n",
       "      <td>1999-01-07</td>\n",
       "      <td>1272.34</td>\n",
       "      <td>1272.34</td>\n",
       "      <td>1257.68</td>\n",
       "      <td>1269.73</td>\n",
       "      <td>779838080</td>\n",
       "    </tr>\n",
       "    <tr>\n",
       "      <th>4</th>\n",
       "      <td>1999-01-08</td>\n",
       "      <td>1269.73</td>\n",
       "      <td>1278.05</td>\n",
       "      <td>1261.85</td>\n",
       "      <td>1275.09</td>\n",
       "      <td>840667392</td>\n",
       "    </tr>\n",
       "  </tbody>\n",
       "</table>\n",
       "</div>"
      ],
      "text/plain": [
       "        Date  (R1) Open  (R1) High  (R1) Low  (R1) Close  SPX Index - Volume\n",
       "0 1999-01-04    1229.23    1248.81   1219.10     1228.10           800662720\n",
       "1 1999-01-05    1228.10    1246.11   1228.10     1244.78           719200704\n",
       "2 1999-01-06    1244.78    1272.50   1244.78     1272.34           901798592\n",
       "3 1999-01-07    1272.34    1272.34   1257.68     1269.73           779838080\n",
       "4 1999-01-08    1269.73    1278.05   1261.85     1275.09           840667392"
      ]
     },
     "execution_count": 6,
     "metadata": {},
     "output_type": "execute_result"
    }
   ],
   "source": [
    "data=data[['Date','(R1) Open','(R1) High','(R1) Low', '(R1) Close','SPX Index - Volume']]\n",
    "data.head()"
   ]
  },
  {
   "cell_type": "code",
   "execution_count": 7,
   "metadata": {},
   "outputs": [
    {
     "data": {
      "text/html": [
       "<div>\n",
       "<style scoped>\n",
       "    .dataframe tbody tr th:only-of-type {\n",
       "        vertical-align: middle;\n",
       "    }\n",
       "\n",
       "    .dataframe tbody tr th {\n",
       "        vertical-align: top;\n",
       "    }\n",
       "\n",
       "    .dataframe thead th {\n",
       "        text-align: right;\n",
       "    }\n",
       "</style>\n",
       "<table border=\"1\" class=\"dataframe\">\n",
       "  <thead>\n",
       "    <tr style=\"text-align: right;\">\n",
       "      <th></th>\n",
       "      <th>Date</th>\n",
       "      <th>(R1) Open</th>\n",
       "      <th>(R1) High</th>\n",
       "      <th>(R1) Low</th>\n",
       "      <th>(R1) Close</th>\n",
       "      <th>SPX Index - Volume</th>\n",
       "    </tr>\n",
       "  </thead>\n",
       "  <tbody>\n",
       "    <tr>\n",
       "      <th>3272</th>\n",
       "      <td>2012-01-03</td>\n",
       "      <td>1258.86</td>\n",
       "      <td>1284.62</td>\n",
       "      <td>1258.86</td>\n",
       "      <td>1277.06</td>\n",
       "      <td>678971776</td>\n",
       "    </tr>\n",
       "    <tr>\n",
       "      <th>3273</th>\n",
       "      <td>2012-01-04</td>\n",
       "      <td>1277.03</td>\n",
       "      <td>1278.73</td>\n",
       "      <td>1268.10</td>\n",
       "      <td>1277.30</td>\n",
       "      <td>640869376</td>\n",
       "    </tr>\n",
       "    <tr>\n",
       "      <th>3274</th>\n",
       "      <td>2012-01-05</td>\n",
       "      <td>1277.30</td>\n",
       "      <td>1283.05</td>\n",
       "      <td>1265.26</td>\n",
       "      <td>1281.06</td>\n",
       "      <td>676180992</td>\n",
       "    </tr>\n",
       "    <tr>\n",
       "      <th>3275</th>\n",
       "      <td>2012-01-06</td>\n",
       "      <td>1280.93</td>\n",
       "      <td>1281.84</td>\n",
       "      <td>1273.34</td>\n",
       "      <td>1277.81</td>\n",
       "      <td>596105216</td>\n",
       "    </tr>\n",
       "    <tr>\n",
       "      <th>3276</th>\n",
       "      <td>2012-01-09</td>\n",
       "      <td>1277.83</td>\n",
       "      <td>1281.99</td>\n",
       "      <td>1274.55</td>\n",
       "      <td>1280.70</td>\n",
       "      <td>592425728</td>\n",
       "    </tr>\n",
       "  </tbody>\n",
       "</table>\n",
       "</div>"
      ],
      "text/plain": [
       "           Date  (R1) Open  (R1) High  (R1) Low  (R1) Close  \\\n",
       "3272 2012-01-03    1258.86    1284.62   1258.86     1277.06   \n",
       "3273 2012-01-04    1277.03    1278.73   1268.10     1277.30   \n",
       "3274 2012-01-05    1277.30    1283.05   1265.26     1281.06   \n",
       "3275 2012-01-06    1280.93    1281.84   1273.34     1277.81   \n",
       "3276 2012-01-09    1277.83    1281.99   1274.55     1280.70   \n",
       "\n",
       "      SPX Index - Volume  \n",
       "3272           678971776  \n",
       "3273           640869376  \n",
       "3274           676180992  \n",
       "3275           596105216  \n",
       "3276           592425728  "
      ]
     },
     "execution_count": 7,
     "metadata": {},
     "output_type": "execute_result"
    }
   ],
   "source": [
    "data=data.loc[(data[\"Date\"]>=\"2012\") & (data[\"Date\"]<=\"2019\")]\n",
    "data.head()"
   ]
  },
  {
   "cell_type": "code",
   "execution_count": 8,
   "metadata": {},
   "outputs": [],
   "source": [
    "data.reset_index(inplace=True)"
   ]
  },
  {
   "cell_type": "code",
   "execution_count": 9,
   "metadata": {},
   "outputs": [
    {
     "data": {
      "text/html": [
       "<div>\n",
       "<style scoped>\n",
       "    .dataframe tbody tr th:only-of-type {\n",
       "        vertical-align: middle;\n",
       "    }\n",
       "\n",
       "    .dataframe tbody tr th {\n",
       "        vertical-align: top;\n",
       "    }\n",
       "\n",
       "    .dataframe thead th {\n",
       "        text-align: right;\n",
       "    }\n",
       "</style>\n",
       "<table border=\"1\" class=\"dataframe\">\n",
       "  <thead>\n",
       "    <tr style=\"text-align: right;\">\n",
       "      <th></th>\n",
       "      <th>index</th>\n",
       "      <th>Date</th>\n",
       "      <th>(R1) Open</th>\n",
       "      <th>(R1) High</th>\n",
       "      <th>(R1) Low</th>\n",
       "      <th>(R1) Close</th>\n",
       "      <th>SPX Index - Volume</th>\n",
       "    </tr>\n",
       "  </thead>\n",
       "  <tbody>\n",
       "    <tr>\n",
       "      <th>0</th>\n",
       "      <td>3272</td>\n",
       "      <td>2012-01-03</td>\n",
       "      <td>1258.86</td>\n",
       "      <td>1284.62</td>\n",
       "      <td>1258.86</td>\n",
       "      <td>1277.06</td>\n",
       "      <td>678971776</td>\n",
       "    </tr>\n",
       "    <tr>\n",
       "      <th>1</th>\n",
       "      <td>3273</td>\n",
       "      <td>2012-01-04</td>\n",
       "      <td>1277.03</td>\n",
       "      <td>1278.73</td>\n",
       "      <td>1268.10</td>\n",
       "      <td>1277.30</td>\n",
       "      <td>640869376</td>\n",
       "    </tr>\n",
       "    <tr>\n",
       "      <th>2</th>\n",
       "      <td>3274</td>\n",
       "      <td>2012-01-05</td>\n",
       "      <td>1277.30</td>\n",
       "      <td>1283.05</td>\n",
       "      <td>1265.26</td>\n",
       "      <td>1281.06</td>\n",
       "      <td>676180992</td>\n",
       "    </tr>\n",
       "    <tr>\n",
       "      <th>3</th>\n",
       "      <td>3275</td>\n",
       "      <td>2012-01-06</td>\n",
       "      <td>1280.93</td>\n",
       "      <td>1281.84</td>\n",
       "      <td>1273.34</td>\n",
       "      <td>1277.81</td>\n",
       "      <td>596105216</td>\n",
       "    </tr>\n",
       "    <tr>\n",
       "      <th>4</th>\n",
       "      <td>3276</td>\n",
       "      <td>2012-01-09</td>\n",
       "      <td>1277.83</td>\n",
       "      <td>1281.99</td>\n",
       "      <td>1274.55</td>\n",
       "      <td>1280.70</td>\n",
       "      <td>592425728</td>\n",
       "    </tr>\n",
       "  </tbody>\n",
       "</table>\n",
       "</div>"
      ],
      "text/plain": [
       "   index       Date  (R1) Open  (R1) High  (R1) Low  (R1) Close  \\\n",
       "0   3272 2012-01-03    1258.86    1284.62   1258.86     1277.06   \n",
       "1   3273 2012-01-04    1277.03    1278.73   1268.10     1277.30   \n",
       "2   3274 2012-01-05    1277.30    1283.05   1265.26     1281.06   \n",
       "3   3275 2012-01-06    1280.93    1281.84   1273.34     1277.81   \n",
       "4   3276 2012-01-09    1277.83    1281.99   1274.55     1280.70   \n",
       "\n",
       "   SPX Index - Volume  \n",
       "0           678971776  \n",
       "1           640869376  \n",
       "2           676180992  \n",
       "3           596105216  \n",
       "4           592425728  "
      ]
     },
     "execution_count": 9,
     "metadata": {},
     "output_type": "execute_result"
    }
   ],
   "source": [
    "data.head()"
   ]
  },
  {
   "cell_type": "code",
   "execution_count": 10,
   "metadata": {},
   "outputs": [
    {
     "data": {
      "text/plain": [
       "Index(['index', 'Date', '(R1) Open', '(R1) High', '(R1) Low', '(R1) Close',\n",
       "       'SPX Index - Volume'],\n",
       "      dtype='object')"
      ]
     },
     "execution_count": 10,
     "metadata": {},
     "output_type": "execute_result"
    }
   ],
   "source": [
    "data.columns"
   ]
  },
  {
   "cell_type": "code",
   "execution_count": 11,
   "metadata": {},
   "outputs": [],
   "source": [
    "data=data.drop(['index'],axis=1)"
   ]
  },
  {
   "cell_type": "code",
   "execution_count": 12,
   "metadata": {},
   "outputs": [],
   "source": [
    "# data=data.set_index(\"Date\")"
   ]
  },
  {
   "cell_type": "code",
   "execution_count": 13,
   "metadata": {},
   "outputs": [],
   "source": [
    "data=data.rename(columns={'(R1) Open':'Open','(R1) High':'High','(R1) Low':'Low','(R1) Close':'Close','SPX Index - Volume':'Volume'})"
   ]
  },
  {
   "cell_type": "code",
   "execution_count": 14,
   "metadata": {},
   "outputs": [
    {
     "data": {
      "text/html": [
       "<div>\n",
       "<style scoped>\n",
       "    .dataframe tbody tr th:only-of-type {\n",
       "        vertical-align: middle;\n",
       "    }\n",
       "\n",
       "    .dataframe tbody tr th {\n",
       "        vertical-align: top;\n",
       "    }\n",
       "\n",
       "    .dataframe thead th {\n",
       "        text-align: right;\n",
       "    }\n",
       "</style>\n",
       "<table border=\"1\" class=\"dataframe\">\n",
       "  <thead>\n",
       "    <tr style=\"text-align: right;\">\n",
       "      <th></th>\n",
       "      <th>Date</th>\n",
       "      <th>Open</th>\n",
       "      <th>High</th>\n",
       "      <th>Low</th>\n",
       "      <th>Close</th>\n",
       "      <th>Volume</th>\n",
       "    </tr>\n",
       "  </thead>\n",
       "  <tbody>\n",
       "    <tr>\n",
       "      <th>0</th>\n",
       "      <td>2012-01-03</td>\n",
       "      <td>1258.86</td>\n",
       "      <td>1284.62</td>\n",
       "      <td>1258.86</td>\n",
       "      <td>1277.06</td>\n",
       "      <td>678971776</td>\n",
       "    </tr>\n",
       "    <tr>\n",
       "      <th>1</th>\n",
       "      <td>2012-01-04</td>\n",
       "      <td>1277.03</td>\n",
       "      <td>1278.73</td>\n",
       "      <td>1268.10</td>\n",
       "      <td>1277.30</td>\n",
       "      <td>640869376</td>\n",
       "    </tr>\n",
       "    <tr>\n",
       "      <th>2</th>\n",
       "      <td>2012-01-05</td>\n",
       "      <td>1277.30</td>\n",
       "      <td>1283.05</td>\n",
       "      <td>1265.26</td>\n",
       "      <td>1281.06</td>\n",
       "      <td>676180992</td>\n",
       "    </tr>\n",
       "    <tr>\n",
       "      <th>3</th>\n",
       "      <td>2012-01-06</td>\n",
       "      <td>1280.93</td>\n",
       "      <td>1281.84</td>\n",
       "      <td>1273.34</td>\n",
       "      <td>1277.81</td>\n",
       "      <td>596105216</td>\n",
       "    </tr>\n",
       "    <tr>\n",
       "      <th>4</th>\n",
       "      <td>2012-01-09</td>\n",
       "      <td>1277.83</td>\n",
       "      <td>1281.99</td>\n",
       "      <td>1274.55</td>\n",
       "      <td>1280.70</td>\n",
       "      <td>592425728</td>\n",
       "    </tr>\n",
       "  </tbody>\n",
       "</table>\n",
       "</div>"
      ],
      "text/plain": [
       "        Date     Open     High      Low    Close     Volume\n",
       "0 2012-01-03  1258.86  1284.62  1258.86  1277.06  678971776\n",
       "1 2012-01-04  1277.03  1278.73  1268.10  1277.30  640869376\n",
       "2 2012-01-05  1277.30  1283.05  1265.26  1281.06  676180992\n",
       "3 2012-01-06  1280.93  1281.84  1273.34  1277.81  596105216\n",
       "4 2012-01-09  1277.83  1281.99  1274.55  1280.70  592425728"
      ]
     },
     "execution_count": 14,
     "metadata": {},
     "output_type": "execute_result"
    }
   ],
   "source": [
    "data.head()"
   ]
  },
  {
   "cell_type": "code",
   "execution_count": 15,
   "metadata": {},
   "outputs": [
    {
     "data": {
      "text/plain": [
       "Date      0\n",
       "Open      0\n",
       "High      0\n",
       "Low       0\n",
       "Close     0\n",
       "Volume    0\n",
       "dtype: int64"
      ]
     },
     "execution_count": 15,
     "metadata": {},
     "output_type": "execute_result"
    }
   ],
   "source": [
    "data.isnull().sum()"
   ]
  },
  {
   "cell_type": "code",
   "execution_count": 16,
   "metadata": {},
   "outputs": [
    {
     "name": "stdout",
     "output_type": "stream",
     "text": [
      "<class 'pandas.core.frame.DataFrame'>\n",
      "RangeIndex: 1760 entries, 0 to 1759\n",
      "Data columns (total 6 columns):\n",
      " #   Column  Non-Null Count  Dtype         \n",
      "---  ------  --------------  -----         \n",
      " 0   Date    1760 non-null   datetime64[ns]\n",
      " 1   Open    1760 non-null   float64       \n",
      " 2   High    1760 non-null   float64       \n",
      " 3   Low     1760 non-null   float64       \n",
      " 4   Close   1760 non-null   float64       \n",
      " 5   Volume  1760 non-null   int64         \n",
      "dtypes: datetime64[ns](1), float64(4), int64(1)\n",
      "memory usage: 82.6 KB\n"
     ]
    }
   ],
   "source": [
    "data.info()"
   ]
  },
  {
   "cell_type": "code",
   "execution_count": 17,
   "metadata": {},
   "outputs": [
    {
     "data": {
      "text/plain": [
       "Index(['Date', 'Open', 'High', 'Low', 'Close', 'Volume'], dtype='object')"
      ]
     },
     "execution_count": 17,
     "metadata": {},
     "output_type": "execute_result"
    }
   ],
   "source": [
    " data.columns"
   ]
  },
  {
   "cell_type": "markdown",
   "metadata": {},
   "source": [
    "## Sentiment_Analysis "
   ]
  },
  {
   "cell_type": "code",
   "execution_count": 18,
   "metadata": {},
   "outputs": [],
   "source": [
    "file = open('wsbData.json', encoding = 'utf-8')\n",
    "a = []\n",
    "\n",
    "for line in file:\n",
    "    a.append(json.loads(line))\n",
    "\n",
    "df = pd.DataFrame(a)\n",
    "df.head()\n",
    "\n",
    "df['date_created'] = pd.to_datetime(df['created_utc'].astype(int), unit='s')\n",
    "df.drop(columns=['created_utc','archived', 'controversiality','retrieved_on','downs','ups','subreddit'], inplace=True)\n",
    "df['date'] = df['date_created'].dt.date\n",
    "df.drop(columns=['date_created','gilded','link_id','id', \n",
    "                 'score_hidden', 'name', 'author', 'subreddit_id', 'parent_id', 'author_flair_text', \n",
    "                 'author_flair_css_class','distinguished', 'score_hidden', 'name', 'author', 'subreddit_id', \n",
    "                 'parent_id', 'author_flair_text', 'author_flair_css_class','distinguished'], inplace=True)\n",
    "\n",
    "df = df.drop(df[df['body'].map(lambda x: str(x)==\"[deleted]\")].index)"
   ]
  },
  {
   "cell_type": "code",
   "execution_count": 19,
   "metadata": {},
   "outputs": [
    {
     "data": {
      "text/html": [
       "<div>\n",
       "<style scoped>\n",
       "    .dataframe tbody tr th:only-of-type {\n",
       "        vertical-align: middle;\n",
       "    }\n",
       "\n",
       "    .dataframe tbody tr th {\n",
       "        vertical-align: top;\n",
       "    }\n",
       "\n",
       "    .dataframe thead th {\n",
       "        text-align: right;\n",
       "    }\n",
       "</style>\n",
       "<table border=\"1\" class=\"dataframe\">\n",
       "  <thead>\n",
       "    <tr style=\"text-align: right;\">\n",
       "      <th></th>\n",
       "      <th>body</th>\n",
       "      <th>score</th>\n",
       "      <th>date</th>\n",
       "    </tr>\n",
       "  </thead>\n",
       "  <tbody>\n",
       "    <tr>\n",
       "      <th>1</th>\n",
       "      <td>Lol. Yeah, Welp.</td>\n",
       "      <td>1</td>\n",
       "      <td>2014-10-09</td>\n",
       "    </tr>\n",
       "    <tr>\n",
       "      <th>3</th>\n",
       "      <td>Crypto miners is not a significant enough mark...</td>\n",
       "      <td>1</td>\n",
       "      <td>2014-02-19</td>\n",
       "    </tr>\n",
       "    <tr>\n",
       "      <th>4</th>\n",
       "      <td>Sold a covered call at 560. I almost wish it d...</td>\n",
       "      <td>1</td>\n",
       "      <td>2014-04-24</td>\n",
       "    </tr>\n",
       "    <tr>\n",
       "      <th>5</th>\n",
       "      <td>NFLX because earning reports releases. +10-12%...</td>\n",
       "      <td>1</td>\n",
       "      <td>2014-01-20</td>\n",
       "    </tr>\n",
       "    <tr>\n",
       "      <th>6</th>\n",
       "      <td>Agreed 100%. When are their earnings? I'd like...</td>\n",
       "      <td>1</td>\n",
       "      <td>2014-07-25</td>\n",
       "    </tr>\n",
       "  </tbody>\n",
       "</table>\n",
       "</div>"
      ],
      "text/plain": [
       "                                                body score        date\n",
       "1                                   Lol. Yeah, Welp.     1  2014-10-09\n",
       "3  Crypto miners is not a significant enough mark...     1  2014-02-19\n",
       "4  Sold a covered call at 560. I almost wish it d...     1  2014-04-24\n",
       "5  NFLX because earning reports releases. +10-12%...     1  2014-01-20\n",
       "6  Agreed 100%. When are their earnings? I'd like...     1  2014-07-25"
      ]
     },
     "execution_count": 19,
     "metadata": {},
     "output_type": "execute_result"
    }
   ],
   "source": [
    "df.head()"
   ]
  },
  {
   "cell_type": "code",
   "execution_count": 20,
   "metadata": {},
   "outputs": [
    {
     "data": {
      "text/plain": [
       "Index(['body', 'score', 'date'], dtype='object')"
      ]
     },
     "execution_count": 20,
     "metadata": {},
     "output_type": "execute_result"
    }
   ],
   "source": [
    "df.columns"
   ]
  },
  {
   "cell_type": "code",
   "execution_count": 21,
   "metadata": {
    "scrolled": true
   },
   "outputs": [
    {
     "name": "stderr",
     "output_type": "stream",
     "text": [
      "[nltk_data] Downloading package names to /home/bibek/nltk_data...\n",
      "[nltk_data]   Package names is already up-to-date!\n",
      "[nltk_data] Downloading package stopwords to /home/bibek/nltk_data...\n",
      "[nltk_data]   Package stopwords is already up-to-date!\n",
      "[nltk_data] Downloading package state_union to\n",
      "[nltk_data]     /home/bibek/nltk_data...\n",
      "[nltk_data]   Package state_union is already up-to-date!\n",
      "[nltk_data] Downloading package twitter_samples to\n",
      "[nltk_data]     /home/bibek/nltk_data...\n",
      "[nltk_data]   Package twitter_samples is already up-to-date!\n",
      "[nltk_data] Downloading package movie_reviews to\n",
      "[nltk_data]     /home/bibek/nltk_data...\n",
      "[nltk_data]   Package movie_reviews is already up-to-date!\n",
      "[nltk_data] Downloading package averaged_perceptron_tagger to\n",
      "[nltk_data]     /home/bibek/nltk_data...\n",
      "[nltk_data]   Package averaged_perceptron_tagger is already up-to-\n",
      "[nltk_data]       date!\n",
      "[nltk_data] Downloading package vader_lexicon to\n",
      "[nltk_data]     /home/bibek/nltk_data...\n",
      "[nltk_data]   Package vader_lexicon is already up-to-date!\n",
      "[nltk_data] Downloading package punkt to /home/bibek/nltk_data...\n",
      "[nltk_data]   Package punkt is already up-to-date!\n"
     ]
    }
   ],
   "source": [
    "#importing nltk module\n",
    "import nltk\n",
    "\n",
    "nltk.download([\"names\",\"stopwords\",\"state_union\",\"twitter_samples\",\n",
    "              \"movie_reviews\",\"averaged_perceptron_tagger\",\"vader_lexicon\",\n",
    "              \"punkt\"])\n",
    "\n",
    "from nltk.sentiment import SentimentIntensityAnalyzer as SIA\n",
    "sia = SIA()"
   ]
  },
  {
   "cell_type": "code",
   "execution_count": 22,
   "metadata": {},
   "outputs": [
    {
     "name": "stdout",
     "output_type": "stream",
     "text": [
      "{'neg': 0.0, 'neu': 0.55, 'pos': 0.45, 'compound': 0.6239}\n"
     ]
    }
   ],
   "source": [
    "print(sia.polarity_scores('wow! this nltk library really works'))"
   ]
  },
  {
   "cell_type": "code",
   "execution_count": 23,
   "metadata": {},
   "outputs": [],
   "source": [
    "#Scoring sentiments \n",
    "texts = df['body'].tolist()\n",
    "negative_scores = []\n",
    "neutral_scores = []\n",
    "positive_scores = []\n",
    "compound_scores = []\n",
    "final_tag = []\n",
    "for text in texts:\n",
    "    score_dictionary = sia.polarity_scores(text)\n",
    "    negative_scores.append(score_dictionary['neg'])\n",
    "    positive_scores.append(score_dictionary['pos'])\n",
    "    neutral_scores.append(score_dictionary['neu'])\n",
    "    compound_scores.append(score_dictionary['compound'])\n",
    "    if score_dictionary['compound']>0:\n",
    "        final_tag.append('positive')\n",
    "    elif score_dictionary['compound']<0:\n",
    "        final_tag.append('negative')\n",
    "    else:\n",
    "        final_tag.append('neutral')\n",
    "df['negative_score'] = negative_scores\n",
    "df['positive_score'] = positive_scores\n",
    "df['neutral_score'] = neutral_scores\n",
    "df['compound_score'] = compound_scores\n",
    "df['final_tag'] = final_tag"
   ]
  },
  {
   "cell_type": "code",
   "execution_count": 72,
   "metadata": {},
   "outputs": [
    {
     "data": {
      "text/html": [
       "<div>\n",
       "<style scoped>\n",
       "    .dataframe tbody tr th:only-of-type {\n",
       "        vertical-align: middle;\n",
       "    }\n",
       "\n",
       "    .dataframe tbody tr th {\n",
       "        vertical-align: top;\n",
       "    }\n",
       "\n",
       "    .dataframe thead th {\n",
       "        text-align: right;\n",
       "    }\n",
       "</style>\n",
       "<table border=\"1\" class=\"dataframe\">\n",
       "  <thead>\n",
       "    <tr style=\"text-align: right;\">\n",
       "      <th></th>\n",
       "      <th>negative_score</th>\n",
       "      <th>positive_score</th>\n",
       "      <th>neutral_score</th>\n",
       "      <th>compound_score</th>\n",
       "    </tr>\n",
       "  </thead>\n",
       "  <tbody>\n",
       "    <tr>\n",
       "      <th>count</th>\n",
       "      <td>2.815063e+06</td>\n",
       "      <td>2.815063e+06</td>\n",
       "      <td>2.815063e+06</td>\n",
       "      <td>2.815063e+06</td>\n",
       "    </tr>\n",
       "    <tr>\n",
       "      <th>mean</th>\n",
       "      <td>8.856903e-02</td>\n",
       "      <td>1.165790e-01</td>\n",
       "      <td>7.887217e-01</td>\n",
       "      <td>4.805801e-02</td>\n",
       "    </tr>\n",
       "    <tr>\n",
       "      <th>std</th>\n",
       "      <td>1.575593e-01</td>\n",
       "      <td>1.796537e-01</td>\n",
       "      <td>2.296742e-01</td>\n",
       "      <td>4.177409e-01</td>\n",
       "    </tr>\n",
       "    <tr>\n",
       "      <th>min</th>\n",
       "      <td>0.000000e+00</td>\n",
       "      <td>0.000000e+00</td>\n",
       "      <td>0.000000e+00</td>\n",
       "      <td>-1.000000e+00</td>\n",
       "    </tr>\n",
       "    <tr>\n",
       "      <th>25%</th>\n",
       "      <td>0.000000e+00</td>\n",
       "      <td>0.000000e+00</td>\n",
       "      <td>6.710000e-01</td>\n",
       "      <td>-1.027000e-01</td>\n",
       "    </tr>\n",
       "    <tr>\n",
       "      <th>50%</th>\n",
       "      <td>0.000000e+00</td>\n",
       "      <td>0.000000e+00</td>\n",
       "      <td>8.280000e-01</td>\n",
       "      <td>0.000000e+00</td>\n",
       "    </tr>\n",
       "    <tr>\n",
       "      <th>75%</th>\n",
       "      <td>1.320000e-01</td>\n",
       "      <td>1.820000e-01</td>\n",
       "      <td>1.000000e+00</td>\n",
       "      <td>3.612000e-01</td>\n",
       "    </tr>\n",
       "    <tr>\n",
       "      <th>max</th>\n",
       "      <td>1.000000e+00</td>\n",
       "      <td>1.000000e+00</td>\n",
       "      <td>1.000000e+00</td>\n",
       "      <td>9.999000e-01</td>\n",
       "    </tr>\n",
       "  </tbody>\n",
       "</table>\n",
       "</div>"
      ],
      "text/plain": [
       "       negative_score  positive_score  neutral_score  compound_score\n",
       "count    2.815063e+06    2.815063e+06   2.815063e+06    2.815063e+06\n",
       "mean     8.856903e-02    1.165790e-01   7.887217e-01    4.805801e-02\n",
       "std      1.575593e-01    1.796537e-01   2.296742e-01    4.177409e-01\n",
       "min      0.000000e+00    0.000000e+00   0.000000e+00   -1.000000e+00\n",
       "25%      0.000000e+00    0.000000e+00   6.710000e-01   -1.027000e-01\n",
       "50%      0.000000e+00    0.000000e+00   8.280000e-01    0.000000e+00\n",
       "75%      1.320000e-01    1.820000e-01   1.000000e+00    3.612000e-01\n",
       "max      1.000000e+00    1.000000e+00   1.000000e+00    9.999000e-01"
      ]
     },
     "execution_count": 72,
     "metadata": {},
     "output_type": "execute_result"
    }
   ],
   "source": [
    "df.describe()"
   ]
  },
  {
   "cell_type": "code",
   "execution_count": 73,
   "metadata": {},
   "outputs": [],
   "source": [
    "df=df.rename(columns={'date':'Date'})"
   ]
  },
  {
   "cell_type": "code",
   "execution_count": 74,
   "metadata": {},
   "outputs": [
    {
     "data": {
      "text/html": [
       "<div>\n",
       "<style scoped>\n",
       "    .dataframe tbody tr th:only-of-type {\n",
       "        vertical-align: middle;\n",
       "    }\n",
       "\n",
       "    .dataframe tbody tr th {\n",
       "        vertical-align: top;\n",
       "    }\n",
       "\n",
       "    .dataframe thead th {\n",
       "        text-align: right;\n",
       "    }\n",
       "</style>\n",
       "<table border=\"1\" class=\"dataframe\">\n",
       "  <thead>\n",
       "    <tr style=\"text-align: right;\">\n",
       "      <th></th>\n",
       "      <th>body</th>\n",
       "      <th>score</th>\n",
       "      <th>Date</th>\n",
       "      <th>negative_score</th>\n",
       "      <th>positive_score</th>\n",
       "      <th>neutral_score</th>\n",
       "      <th>compound_score</th>\n",
       "      <th>final_tag</th>\n",
       "    </tr>\n",
       "  </thead>\n",
       "  <tbody>\n",
       "    <tr>\n",
       "      <th>1</th>\n",
       "      <td>Lol. Yeah, Welp.</td>\n",
       "      <td>1</td>\n",
       "      <td>2014-10-09</td>\n",
       "      <td>0.000</td>\n",
       "      <td>0.833</td>\n",
       "      <td>0.167</td>\n",
       "      <td>0.6124</td>\n",
       "      <td>positive</td>\n",
       "    </tr>\n",
       "    <tr>\n",
       "      <th>3</th>\n",
       "      <td>Crypto miners is not a significant enough mark...</td>\n",
       "      <td>1</td>\n",
       "      <td>2014-02-19</td>\n",
       "      <td>0.028</td>\n",
       "      <td>0.239</td>\n",
       "      <td>0.733</td>\n",
       "      <td>0.9680</td>\n",
       "      <td>positive</td>\n",
       "    </tr>\n",
       "    <tr>\n",
       "      <th>4</th>\n",
       "      <td>Sold a covered call at 560. I almost wish it d...</td>\n",
       "      <td>1</td>\n",
       "      <td>2014-04-24</td>\n",
       "      <td>0.000</td>\n",
       "      <td>0.203</td>\n",
       "      <td>0.797</td>\n",
       "      <td>0.6821</td>\n",
       "      <td>positive</td>\n",
       "    </tr>\n",
       "    <tr>\n",
       "      <th>5</th>\n",
       "      <td>NFLX because earning reports releases. +10-12%...</td>\n",
       "      <td>1</td>\n",
       "      <td>2014-01-20</td>\n",
       "      <td>0.000</td>\n",
       "      <td>0.000</td>\n",
       "      <td>1.000</td>\n",
       "      <td>0.0000</td>\n",
       "      <td>neutral</td>\n",
       "    </tr>\n",
       "    <tr>\n",
       "      <th>6</th>\n",
       "      <td>Agreed 100%. When are their earnings? I'd like...</td>\n",
       "      <td>1</td>\n",
       "      <td>2014-07-25</td>\n",
       "      <td>0.000</td>\n",
       "      <td>0.379</td>\n",
       "      <td>0.621</td>\n",
       "      <td>0.6908</td>\n",
       "      <td>positive</td>\n",
       "    </tr>\n",
       "  </tbody>\n",
       "</table>\n",
       "</div>"
      ],
      "text/plain": [
       "                                                body score       Date  \\\n",
       "1                                   Lol. Yeah, Welp.     1 2014-10-09   \n",
       "3  Crypto miners is not a significant enough mark...     1 2014-02-19   \n",
       "4  Sold a covered call at 560. I almost wish it d...     1 2014-04-24   \n",
       "5  NFLX because earning reports releases. +10-12%...     1 2014-01-20   \n",
       "6  Agreed 100%. When are their earnings? I'd like...     1 2014-07-25   \n",
       "\n",
       "   negative_score  positive_score  neutral_score  compound_score final_tag  \n",
       "1           0.000           0.833          0.167          0.6124  positive  \n",
       "3           0.028           0.239          0.733          0.9680  positive  \n",
       "4           0.000           0.203          0.797          0.6821  positive  \n",
       "5           0.000           0.000          1.000          0.0000   neutral  \n",
       "6           0.000           0.379          0.621          0.6908  positive  "
      ]
     },
     "execution_count": 74,
     "metadata": {},
     "output_type": "execute_result"
    }
   ],
   "source": [
    "df.head()"
   ]
  },
  {
   "cell_type": "code",
   "execution_count": 75,
   "metadata": {},
   "outputs": [
    {
     "data": {
      "text/plain": [
       "Index(['body', 'score', 'Date', 'negative_score', 'positive_score',\n",
       "       'neutral_score', 'compound_score', 'final_tag'],\n",
       "      dtype='object')"
      ]
     },
     "execution_count": 75,
     "metadata": {},
     "output_type": "execute_result"
    }
   ],
   "source": [
    "df.columns"
   ]
  },
  {
   "cell_type": "code",
   "execution_count": 76,
   "metadata": {},
   "outputs": [
    {
     "data": {
      "text/plain": [
       "body              0\n",
       "score             0\n",
       "Date              0\n",
       "negative_score    0\n",
       "positive_score    0\n",
       "neutral_score     0\n",
       "compound_score    0\n",
       "final_tag         0\n",
       "dtype: int64"
      ]
     },
     "execution_count": 76,
     "metadata": {},
     "output_type": "execute_result"
    }
   ],
   "source": [
    "#checking for null values\n",
    "df.isnull().sum()"
   ]
  },
  {
   "cell_type": "code",
   "execution_count": 77,
   "metadata": {},
   "outputs": [
    {
     "name": "stdout",
     "output_type": "stream",
     "text": [
      "<class 'pandas.core.frame.DataFrame'>\n",
      "Int64Index: 2815063 entries, 1 to 2979130\n",
      "Data columns (total 8 columns):\n",
      " #   Column          Dtype         \n",
      "---  ------          -----         \n",
      " 0   body            object        \n",
      " 1   score           object        \n",
      " 2   Date            datetime64[ns]\n",
      " 3   negative_score  float64       \n",
      " 4   positive_score  float64       \n",
      " 5   neutral_score   float64       \n",
      " 6   compound_score  float64       \n",
      " 7   final_tag       object        \n",
      "dtypes: datetime64[ns](1), float64(4), object(3)\n",
      "memory usage: 193.3+ MB\n"
     ]
    }
   ],
   "source": [
    "df.info()"
   ]
  },
  {
   "cell_type": "code",
   "execution_count": 78,
   "metadata": {},
   "outputs": [],
   "source": [
    "#Converting data type 'object' into 'datetime64[ns]'\n",
    "df['Date']=pd.to_datetime(df.Date)"
   ]
  },
  {
   "cell_type": "code",
   "execution_count": 79,
   "metadata": {},
   "outputs": [],
   "source": [
    "Merged_Data=pd.merge(data,df,on=\"Date\",how=\"inner\")"
   ]
  },
  {
   "cell_type": "code",
   "execution_count": 80,
   "metadata": {},
   "outputs": [
    {
     "data": {
      "text/html": [
       "<div>\n",
       "<style scoped>\n",
       "    .dataframe tbody tr th:only-of-type {\n",
       "        vertical-align: middle;\n",
       "    }\n",
       "\n",
       "    .dataframe tbody tr th {\n",
       "        vertical-align: top;\n",
       "    }\n",
       "\n",
       "    .dataframe thead th {\n",
       "        text-align: right;\n",
       "    }\n",
       "</style>\n",
       "<table border=\"1\" class=\"dataframe\">\n",
       "  <thead>\n",
       "    <tr style=\"text-align: right;\">\n",
       "      <th></th>\n",
       "      <th>Date</th>\n",
       "      <th>Open</th>\n",
       "      <th>High</th>\n",
       "      <th>Low</th>\n",
       "      <th>Close</th>\n",
       "      <th>Volume</th>\n",
       "      <th>body</th>\n",
       "      <th>score</th>\n",
       "      <th>negative_score</th>\n",
       "      <th>positive_score</th>\n",
       "      <th>neutral_score</th>\n",
       "      <th>compound_score</th>\n",
       "      <th>final_tag</th>\n",
       "    </tr>\n",
       "  </thead>\n",
       "  <tbody>\n",
       "    <tr>\n",
       "      <th>0</th>\n",
       "      <td>2012-04-11</td>\n",
       "      <td>1358.98</td>\n",
       "      <td>1374.71</td>\n",
       "      <td>1358.98</td>\n",
       "      <td>1368.7</td>\n",
       "      <td>593003200</td>\n",
       "      <td>Shorting AAPL ahead of earnings.  My guess is ...</td>\n",
       "      <td>1</td>\n",
       "      <td>0.101</td>\n",
       "      <td>0.000</td>\n",
       "      <td>0.899</td>\n",
       "      <td>-0.4472</td>\n",
       "      <td>negative</td>\n",
       "    </tr>\n",
       "    <tr>\n",
       "      <th>1</th>\n",
       "      <td>2012-04-11</td>\n",
       "      <td>1358.98</td>\n",
       "      <td>1374.71</td>\n",
       "      <td>1358.98</td>\n",
       "      <td>1368.7</td>\n",
       "      <td>593003200</td>\n",
       "      <td>BAC 4/19 betting on a beat</td>\n",
       "      <td>1</td>\n",
       "      <td>0.000</td>\n",
       "      <td>0.000</td>\n",
       "      <td>1.000</td>\n",
       "      <td>0.0000</td>\n",
       "      <td>neutral</td>\n",
       "    </tr>\n",
       "    <tr>\n",
       "      <th>2</th>\n",
       "      <td>2012-04-11</td>\n",
       "      <td>1358.98</td>\n",
       "      <td>1374.71</td>\n",
       "      <td>1358.98</td>\n",
       "      <td>1368.7</td>\n",
       "      <td>593003200</td>\n",
       "      <td>I'm looking at CJES, PACD, and SATC.</td>\n",
       "      <td>2</td>\n",
       "      <td>0.000</td>\n",
       "      <td>0.000</td>\n",
       "      <td>1.000</td>\n",
       "      <td>0.0000</td>\n",
       "      <td>neutral</td>\n",
       "    </tr>\n",
       "    <tr>\n",
       "      <th>3</th>\n",
       "      <td>2012-04-11</td>\n",
       "      <td>1358.98</td>\n",
       "      <td>1374.71</td>\n",
       "      <td>1358.98</td>\n",
       "      <td>1368.7</td>\n",
       "      <td>593003200</td>\n",
       "      <td>straddle, call, straddle, put, put, put, strad...</td>\n",
       "      <td>1</td>\n",
       "      <td>0.000</td>\n",
       "      <td>0.127</td>\n",
       "      <td>0.873</td>\n",
       "      <td>0.5640</td>\n",
       "      <td>positive</td>\n",
       "    </tr>\n",
       "    <tr>\n",
       "      <th>4</th>\n",
       "      <td>2012-04-11</td>\n",
       "      <td>1358.98</td>\n",
       "      <td>1374.71</td>\n",
       "      <td>1358.98</td>\n",
       "      <td>1368.7</td>\n",
       "      <td>593003200</td>\n",
       "      <td>CROX 4/26\\n\\nBZH 5/1\\n\\ni'm expecting both to ...</td>\n",
       "      <td>1</td>\n",
       "      <td>0.000</td>\n",
       "      <td>0.000</td>\n",
       "      <td>1.000</td>\n",
       "      <td>0.0000</td>\n",
       "      <td>neutral</td>\n",
       "    </tr>\n",
       "  </tbody>\n",
       "</table>\n",
       "</div>"
      ],
      "text/plain": [
       "        Date     Open     High      Low   Close     Volume  \\\n",
       "0 2012-04-11  1358.98  1374.71  1358.98  1368.7  593003200   \n",
       "1 2012-04-11  1358.98  1374.71  1358.98  1368.7  593003200   \n",
       "2 2012-04-11  1358.98  1374.71  1358.98  1368.7  593003200   \n",
       "3 2012-04-11  1358.98  1374.71  1358.98  1368.7  593003200   \n",
       "4 2012-04-11  1358.98  1374.71  1358.98  1368.7  593003200   \n",
       "\n",
       "                                                body score  negative_score  \\\n",
       "0  Shorting AAPL ahead of earnings.  My guess is ...     1           0.101   \n",
       "1                         BAC 4/19 betting on a beat     1           0.000   \n",
       "2               I'm looking at CJES, PACD, and SATC.     2           0.000   \n",
       "3  straddle, call, straddle, put, put, put, strad...     1           0.000   \n",
       "4  CROX 4/26\\n\\nBZH 5/1\\n\\ni'm expecting both to ...     1           0.000   \n",
       "\n",
       "   positive_score  neutral_score  compound_score final_tag  \n",
       "0           0.000          0.899         -0.4472  negative  \n",
       "1           0.000          1.000          0.0000   neutral  \n",
       "2           0.000          1.000          0.0000   neutral  \n",
       "3           0.127          0.873          0.5640  positive  \n",
       "4           0.000          1.000          0.0000   neutral  "
      ]
     },
     "execution_count": 80,
     "metadata": {},
     "output_type": "execute_result"
    }
   ],
   "source": [
    "Merged_Data.head()"
   ]
  },
  {
   "cell_type": "code",
   "execution_count": 81,
   "metadata": {},
   "outputs": [
    {
     "data": {
      "text/plain": [
       "(2379394, 13)"
      ]
     },
     "execution_count": 81,
     "metadata": {},
     "output_type": "execute_result"
    }
   ],
   "source": [
    "Merged_Data.shape"
   ]
  },
  {
   "cell_type": "code",
   "execution_count": 82,
   "metadata": {},
   "outputs": [
    {
     "name": "stdout",
     "output_type": "stream",
     "text": [
      "<class 'pandas.core.frame.DataFrame'>\n",
      "Int64Index: 2379394 entries, 0 to 2379393\n",
      "Data columns (total 13 columns):\n",
      " #   Column          Dtype         \n",
      "---  ------          -----         \n",
      " 0   Date            datetime64[ns]\n",
      " 1   Open            float64       \n",
      " 2   High            float64       \n",
      " 3   Low             float64       \n",
      " 4   Close           float64       \n",
      " 5   Volume          int64         \n",
      " 6   body            object        \n",
      " 7   score           object        \n",
      " 8   negative_score  float64       \n",
      " 9   positive_score  float64       \n",
      " 10  neutral_score   float64       \n",
      " 11  compound_score  float64       \n",
      " 12  final_tag       object        \n",
      "dtypes: datetime64[ns](1), float64(8), int64(1), object(3)\n",
      "memory usage: 254.1+ MB\n"
     ]
    }
   ],
   "source": [
    "Merged_Data.info()"
   ]
  },
  {
   "cell_type": "code",
   "execution_count": 83,
   "metadata": {},
   "outputs": [
    {
     "data": {
      "text/plain": [
       "Index(['Date', 'Open', 'High', 'Low', 'Close', 'Volume', 'body', 'score',\n",
       "       'negative_score', 'positive_score', 'neutral_score', 'compound_score',\n",
       "       'final_tag'],\n",
       "      dtype='object')"
      ]
     },
     "execution_count": 83,
     "metadata": {},
     "output_type": "execute_result"
    }
   ],
   "source": [
    "Merged_Data.columns"
   ]
  },
  {
   "cell_type": "code",
   "execution_count": 84,
   "metadata": {},
   "outputs": [
    {
     "data": {
      "text/plain": [
       "2377757"
      ]
     },
     "execution_count": 84,
     "metadata": {},
     "output_type": "execute_result"
    }
   ],
   "source": [
    "#Total number of Duplicate Date\n",
    "Merged_Data.Date.duplicated().sum()"
   ]
  },
  {
   "cell_type": "code",
   "execution_count": 85,
   "metadata": {},
   "outputs": [
    {
     "data": {
      "text/html": [
       "<div>\n",
       "<style scoped>\n",
       "    .dataframe tbody tr th:only-of-type {\n",
       "        vertical-align: middle;\n",
       "    }\n",
       "\n",
       "    .dataframe tbody tr th {\n",
       "        vertical-align: top;\n",
       "    }\n",
       "\n",
       "    .dataframe thead th {\n",
       "        text-align: right;\n",
       "    }\n",
       "</style>\n",
       "<table border=\"1\" class=\"dataframe\">\n",
       "  <thead>\n",
       "    <tr style=\"text-align: right;\">\n",
       "      <th></th>\n",
       "      <th>Date</th>\n",
       "      <th>Open</th>\n",
       "      <th>High</th>\n",
       "      <th>Low</th>\n",
       "      <th>Close</th>\n",
       "      <th>Volume</th>\n",
       "      <th>body</th>\n",
       "      <th>score</th>\n",
       "      <th>negative_score</th>\n",
       "      <th>positive_score</th>\n",
       "      <th>neutral_score</th>\n",
       "      <th>compound_score</th>\n",
       "      <th>final_tag</th>\n",
       "    </tr>\n",
       "  </thead>\n",
       "  <tbody>\n",
       "    <tr>\n",
       "      <th>0</th>\n",
       "      <td>2012-04-11</td>\n",
       "      <td>1358.98</td>\n",
       "      <td>1374.71</td>\n",
       "      <td>1358.98</td>\n",
       "      <td>1368.7</td>\n",
       "      <td>593003200</td>\n",
       "      <td>Shorting AAPL ahead of earnings.  My guess is ...</td>\n",
       "      <td>1</td>\n",
       "      <td>0.101</td>\n",
       "      <td>0.000</td>\n",
       "      <td>0.899</td>\n",
       "      <td>-0.4472</td>\n",
       "      <td>negative</td>\n",
       "    </tr>\n",
       "    <tr>\n",
       "      <th>1</th>\n",
       "      <td>2012-04-11</td>\n",
       "      <td>1358.98</td>\n",
       "      <td>1374.71</td>\n",
       "      <td>1358.98</td>\n",
       "      <td>1368.7</td>\n",
       "      <td>593003200</td>\n",
       "      <td>BAC 4/19 betting on a beat</td>\n",
       "      <td>1</td>\n",
       "      <td>0.000</td>\n",
       "      <td>0.000</td>\n",
       "      <td>1.000</td>\n",
       "      <td>0.0000</td>\n",
       "      <td>neutral</td>\n",
       "    </tr>\n",
       "    <tr>\n",
       "      <th>2</th>\n",
       "      <td>2012-04-11</td>\n",
       "      <td>1358.98</td>\n",
       "      <td>1374.71</td>\n",
       "      <td>1358.98</td>\n",
       "      <td>1368.7</td>\n",
       "      <td>593003200</td>\n",
       "      <td>I'm looking at CJES, PACD, and SATC.</td>\n",
       "      <td>2</td>\n",
       "      <td>0.000</td>\n",
       "      <td>0.000</td>\n",
       "      <td>1.000</td>\n",
       "      <td>0.0000</td>\n",
       "      <td>neutral</td>\n",
       "    </tr>\n",
       "    <tr>\n",
       "      <th>3</th>\n",
       "      <td>2012-04-11</td>\n",
       "      <td>1358.98</td>\n",
       "      <td>1374.71</td>\n",
       "      <td>1358.98</td>\n",
       "      <td>1368.7</td>\n",
       "      <td>593003200</td>\n",
       "      <td>straddle, call, straddle, put, put, put, strad...</td>\n",
       "      <td>1</td>\n",
       "      <td>0.000</td>\n",
       "      <td>0.127</td>\n",
       "      <td>0.873</td>\n",
       "      <td>0.5640</td>\n",
       "      <td>positive</td>\n",
       "    </tr>\n",
       "    <tr>\n",
       "      <th>4</th>\n",
       "      <td>2012-04-11</td>\n",
       "      <td>1358.98</td>\n",
       "      <td>1374.71</td>\n",
       "      <td>1358.98</td>\n",
       "      <td>1368.7</td>\n",
       "      <td>593003200</td>\n",
       "      <td>CROX 4/26\\n\\nBZH 5/1\\n\\ni'm expecting both to ...</td>\n",
       "      <td>1</td>\n",
       "      <td>0.000</td>\n",
       "      <td>0.000</td>\n",
       "      <td>1.000</td>\n",
       "      <td>0.0000</td>\n",
       "      <td>neutral</td>\n",
       "    </tr>\n",
       "  </tbody>\n",
       "</table>\n",
       "</div>"
      ],
      "text/plain": [
       "        Date     Open     High      Low   Close     Volume  \\\n",
       "0 2012-04-11  1358.98  1374.71  1358.98  1368.7  593003200   \n",
       "1 2012-04-11  1358.98  1374.71  1358.98  1368.7  593003200   \n",
       "2 2012-04-11  1358.98  1374.71  1358.98  1368.7  593003200   \n",
       "3 2012-04-11  1358.98  1374.71  1358.98  1368.7  593003200   \n",
       "4 2012-04-11  1358.98  1374.71  1358.98  1368.7  593003200   \n",
       "\n",
       "                                                body score  negative_score  \\\n",
       "0  Shorting AAPL ahead of earnings.  My guess is ...     1           0.101   \n",
       "1                         BAC 4/19 betting on a beat     1           0.000   \n",
       "2               I'm looking at CJES, PACD, and SATC.     2           0.000   \n",
       "3  straddle, call, straddle, put, put, put, strad...     1           0.000   \n",
       "4  CROX 4/26\\n\\nBZH 5/1\\n\\ni'm expecting both to ...     1           0.000   \n",
       "\n",
       "   positive_score  neutral_score  compound_score final_tag  \n",
       "0           0.000          0.899         -0.4472  negative  \n",
       "1           0.000          1.000          0.0000   neutral  \n",
       "2           0.000          1.000          0.0000   neutral  \n",
       "3           0.127          0.873          0.5640  positive  \n",
       "4           0.000          1.000          0.0000   neutral  "
      ]
     },
     "execution_count": 85,
     "metadata": {},
     "output_type": "execute_result"
    }
   ],
   "source": [
    "Merged_Data.head()"
   ]
  },
  {
   "cell_type": "code",
   "execution_count": 88,
   "metadata": {},
   "outputs": [],
   "source": [
    "Merged_Data.drop_duplicates(subset=['Date'],inplace=True)"
   ]
  },
  {
   "cell_type": "code",
   "execution_count": 89,
   "metadata": {},
   "outputs": [
    {
     "data": {
      "text/plain": [
       "Int64Index([      0,      14,      17,      19,      21,      38,      40,\n",
       "                 41,      51,      64,\n",
       "            ...\n",
       "            2283620, 2291684, 2298880, 2304656, 2313014, 2327248, 2340179,\n",
       "            2350217, 2359343, 2370343],\n",
       "           dtype='int64', length=1637)"
      ]
     },
     "execution_count": 89,
     "metadata": {},
     "output_type": "execute_result"
    }
   ],
   "source": [
    "Merged_Data.index"
   ]
  },
  {
   "cell_type": "code",
   "execution_count": 90,
   "metadata": {},
   "outputs": [],
   "source": [
    "Merged_Data['Target_Variable']=np.nan"
   ]
  },
  {
   "cell_type": "code",
   "execution_count": 93,
   "metadata": {},
   "outputs": [],
   "source": [
    "Merged_Data.loc[Merged_Data.Open>=Merged_Data.Close,\"Target_Variable\"]=0\n",
    "Merged_Data.loc[Merged_Data.Open<Merged_Data.Close,\"Target_Variable\"]=1"
   ]
  },
  {
   "cell_type": "code",
   "execution_count": 95,
   "metadata": {},
   "outputs": [
    {
     "data": {
      "text/html": [
       "<div>\n",
       "<style scoped>\n",
       "    .dataframe tbody tr th:only-of-type {\n",
       "        vertical-align: middle;\n",
       "    }\n",
       "\n",
       "    .dataframe tbody tr th {\n",
       "        vertical-align: top;\n",
       "    }\n",
       "\n",
       "    .dataframe thead th {\n",
       "        text-align: right;\n",
       "    }\n",
       "</style>\n",
       "<table border=\"1\" class=\"dataframe\">\n",
       "  <thead>\n",
       "    <tr style=\"text-align: right;\">\n",
       "      <th></th>\n",
       "      <th>Date</th>\n",
       "      <th>Open</th>\n",
       "      <th>High</th>\n",
       "      <th>Low</th>\n",
       "      <th>Close</th>\n",
       "      <th>Volume</th>\n",
       "      <th>body</th>\n",
       "      <th>score</th>\n",
       "      <th>negative_score</th>\n",
       "      <th>positive_score</th>\n",
       "      <th>neutral_score</th>\n",
       "      <th>compound_score</th>\n",
       "      <th>final_tag</th>\n",
       "      <th>Target_Variable</th>\n",
       "    </tr>\n",
       "  </thead>\n",
       "  <tbody>\n",
       "    <tr>\n",
       "      <th>0</th>\n",
       "      <td>2012-04-11</td>\n",
       "      <td>1358.98</td>\n",
       "      <td>1374.71</td>\n",
       "      <td>1358.98</td>\n",
       "      <td>1368.70</td>\n",
       "      <td>593003200</td>\n",
       "      <td>Shorting AAPL ahead of earnings.  My guess is ...</td>\n",
       "      <td>1</td>\n",
       "      <td>0.101</td>\n",
       "      <td>0.000</td>\n",
       "      <td>0.899</td>\n",
       "      <td>-0.4472</td>\n",
       "      <td>negative</td>\n",
       "      <td>1.0</td>\n",
       "    </tr>\n",
       "    <tr>\n",
       "      <th>14</th>\n",
       "      <td>2012-04-12</td>\n",
       "      <td>1368.77</td>\n",
       "      <td>1388.13</td>\n",
       "      <td>1368.77</td>\n",
       "      <td>1387.56</td>\n",
       "      <td>547368832</td>\n",
       "      <td>me too :)</td>\n",
       "      <td>1</td>\n",
       "      <td>0.000</td>\n",
       "      <td>0.600</td>\n",
       "      <td>0.400</td>\n",
       "      <td>0.4588</td>\n",
       "      <td>positive</td>\n",
       "      <td>1.0</td>\n",
       "    </tr>\n",
       "    <tr>\n",
       "      <th>17</th>\n",
       "      <td>2012-04-13</td>\n",
       "      <td>1387.61</td>\n",
       "      <td>1387.61</td>\n",
       "      <td>1369.85</td>\n",
       "      <td>1370.26</td>\n",
       "      <td>631237824</td>\n",
       "      <td>[AMZN earnings on 4/26](http://www.sys-con.com...</td>\n",
       "      <td>1</td>\n",
       "      <td>0.000</td>\n",
       "      <td>0.000</td>\n",
       "      <td>1.000</td>\n",
       "      <td>0.0000</td>\n",
       "      <td>neutral</td>\n",
       "      <td>0.0</td>\n",
       "    </tr>\n",
       "    <tr>\n",
       "      <th>19</th>\n",
       "      <td>2012-04-16</td>\n",
       "      <td>1370.27</td>\n",
       "      <td>1379.66</td>\n",
       "      <td>1365.38</td>\n",
       "      <td>1369.57</td>\n",
       "      <td>596952128</td>\n",
       "      <td>What time is earnings release?  If options pre...</td>\n",
       "      <td>1</td>\n",
       "      <td>0.000</td>\n",
       "      <td>0.246</td>\n",
       "      <td>0.754</td>\n",
       "      <td>0.8172</td>\n",
       "      <td>positive</td>\n",
       "      <td>0.0</td>\n",
       "    </tr>\n",
       "    <tr>\n",
       "      <th>21</th>\n",
       "      <td>2012-04-17</td>\n",
       "      <td>1369.57</td>\n",
       "      <td>1392.76</td>\n",
       "      <td>1369.57</td>\n",
       "      <td>1390.78</td>\n",
       "      <td>566529216</td>\n",
       "      <td>Actually, this morning I was going to buy OTM ...</td>\n",
       "      <td>1</td>\n",
       "      <td>0.068</td>\n",
       "      <td>0.045</td>\n",
       "      <td>0.887</td>\n",
       "      <td>-0.1027</td>\n",
       "      <td>negative</td>\n",
       "      <td>1.0</td>\n",
       "    </tr>\n",
       "  </tbody>\n",
       "</table>\n",
       "</div>"
      ],
      "text/plain": [
       "         Date     Open     High      Low    Close     Volume  \\\n",
       "0  2012-04-11  1358.98  1374.71  1358.98  1368.70  593003200   \n",
       "14 2012-04-12  1368.77  1388.13  1368.77  1387.56  547368832   \n",
       "17 2012-04-13  1387.61  1387.61  1369.85  1370.26  631237824   \n",
       "19 2012-04-16  1370.27  1379.66  1365.38  1369.57  596952128   \n",
       "21 2012-04-17  1369.57  1392.76  1369.57  1390.78  566529216   \n",
       "\n",
       "                                                 body score  negative_score  \\\n",
       "0   Shorting AAPL ahead of earnings.  My guess is ...     1           0.101   \n",
       "14                                          me too :)     1           0.000   \n",
       "17  [AMZN earnings on 4/26](http://www.sys-con.com...     1           0.000   \n",
       "19  What time is earnings release?  If options pre...     1           0.000   \n",
       "21  Actually, this morning I was going to buy OTM ...     1           0.068   \n",
       "\n",
       "    positive_score  neutral_score  compound_score final_tag  Target_Variable  \n",
       "0            0.000          0.899         -0.4472  negative              1.0  \n",
       "14           0.600          0.400          0.4588  positive              1.0  \n",
       "17           0.000          1.000          0.0000   neutral              0.0  \n",
       "19           0.246          0.754          0.8172  positive              0.0  \n",
       "21           0.045          0.887         -0.1027  negative              1.0  "
      ]
     },
     "execution_count": 95,
     "metadata": {},
     "output_type": "execute_result"
    }
   ],
   "source": [
    "Merged_Data.head()"
   ]
  },
  {
   "cell_type": "code",
   "execution_count": 96,
   "metadata": {},
   "outputs": [
    {
     "data": {
      "text/html": [
       "<div>\n",
       "<style scoped>\n",
       "    .dataframe tbody tr th:only-of-type {\n",
       "        vertical-align: middle;\n",
       "    }\n",
       "\n",
       "    .dataframe tbody tr th {\n",
       "        vertical-align: top;\n",
       "    }\n",
       "\n",
       "    .dataframe thead th {\n",
       "        text-align: right;\n",
       "    }\n",
       "</style>\n",
       "<table border=\"1\" class=\"dataframe\">\n",
       "  <thead>\n",
       "    <tr style=\"text-align: right;\">\n",
       "      <th></th>\n",
       "      <th>Open</th>\n",
       "      <th>High</th>\n",
       "      <th>Low</th>\n",
       "      <th>Close</th>\n",
       "      <th>Volume</th>\n",
       "      <th>body</th>\n",
       "      <th>score</th>\n",
       "      <th>negative_score</th>\n",
       "      <th>positive_score</th>\n",
       "      <th>neutral_score</th>\n",
       "      <th>compound_score</th>\n",
       "      <th>final_tag</th>\n",
       "      <th>Target_Variable</th>\n",
       "    </tr>\n",
       "    <tr>\n",
       "      <th>Date</th>\n",
       "      <th></th>\n",
       "      <th></th>\n",
       "      <th></th>\n",
       "      <th></th>\n",
       "      <th></th>\n",
       "      <th></th>\n",
       "      <th></th>\n",
       "      <th></th>\n",
       "      <th></th>\n",
       "      <th></th>\n",
       "      <th></th>\n",
       "      <th></th>\n",
       "      <th></th>\n",
       "    </tr>\n",
       "  </thead>\n",
       "  <tbody>\n",
       "    <tr>\n",
       "      <th>2012-04-11</th>\n",
       "      <td>1358.98</td>\n",
       "      <td>1374.71</td>\n",
       "      <td>1358.98</td>\n",
       "      <td>1368.70</td>\n",
       "      <td>593003200</td>\n",
       "      <td>Shorting AAPL ahead of earnings.  My guess is ...</td>\n",
       "      <td>1</td>\n",
       "      <td>0.101</td>\n",
       "      <td>0.000</td>\n",
       "      <td>0.899</td>\n",
       "      <td>-0.4472</td>\n",
       "      <td>negative</td>\n",
       "      <td>1.0</td>\n",
       "    </tr>\n",
       "    <tr>\n",
       "      <th>2012-04-12</th>\n",
       "      <td>1368.77</td>\n",
       "      <td>1388.13</td>\n",
       "      <td>1368.77</td>\n",
       "      <td>1387.56</td>\n",
       "      <td>547368832</td>\n",
       "      <td>me too :)</td>\n",
       "      <td>1</td>\n",
       "      <td>0.000</td>\n",
       "      <td>0.600</td>\n",
       "      <td>0.400</td>\n",
       "      <td>0.4588</td>\n",
       "      <td>positive</td>\n",
       "      <td>1.0</td>\n",
       "    </tr>\n",
       "    <tr>\n",
       "      <th>2012-04-13</th>\n",
       "      <td>1387.61</td>\n",
       "      <td>1387.61</td>\n",
       "      <td>1369.85</td>\n",
       "      <td>1370.26</td>\n",
       "      <td>631237824</td>\n",
       "      <td>[AMZN earnings on 4/26](http://www.sys-con.com...</td>\n",
       "      <td>1</td>\n",
       "      <td>0.000</td>\n",
       "      <td>0.000</td>\n",
       "      <td>1.000</td>\n",
       "      <td>0.0000</td>\n",
       "      <td>neutral</td>\n",
       "      <td>0.0</td>\n",
       "    </tr>\n",
       "    <tr>\n",
       "      <th>2012-04-16</th>\n",
       "      <td>1370.27</td>\n",
       "      <td>1379.66</td>\n",
       "      <td>1365.38</td>\n",
       "      <td>1369.57</td>\n",
       "      <td>596952128</td>\n",
       "      <td>What time is earnings release?  If options pre...</td>\n",
       "      <td>1</td>\n",
       "      <td>0.000</td>\n",
       "      <td>0.246</td>\n",
       "      <td>0.754</td>\n",
       "      <td>0.8172</td>\n",
       "      <td>positive</td>\n",
       "      <td>0.0</td>\n",
       "    </tr>\n",
       "    <tr>\n",
       "      <th>2012-04-17</th>\n",
       "      <td>1369.57</td>\n",
       "      <td>1392.76</td>\n",
       "      <td>1369.57</td>\n",
       "      <td>1390.78</td>\n",
       "      <td>566529216</td>\n",
       "      <td>Actually, this morning I was going to buy OTM ...</td>\n",
       "      <td>1</td>\n",
       "      <td>0.068</td>\n",
       "      <td>0.045</td>\n",
       "      <td>0.887</td>\n",
       "      <td>-0.1027</td>\n",
       "      <td>negative</td>\n",
       "      <td>1.0</td>\n",
       "    </tr>\n",
       "  </tbody>\n",
       "</table>\n",
       "</div>"
      ],
      "text/plain": [
       "               Open     High      Low    Close     Volume  \\\n",
       "Date                                                        \n",
       "2012-04-11  1358.98  1374.71  1358.98  1368.70  593003200   \n",
       "2012-04-12  1368.77  1388.13  1368.77  1387.56  547368832   \n",
       "2012-04-13  1387.61  1387.61  1369.85  1370.26  631237824   \n",
       "2012-04-16  1370.27  1379.66  1365.38  1369.57  596952128   \n",
       "2012-04-17  1369.57  1392.76  1369.57  1390.78  566529216   \n",
       "\n",
       "                                                         body score  \\\n",
       "Date                                                                  \n",
       "2012-04-11  Shorting AAPL ahead of earnings.  My guess is ...     1   \n",
       "2012-04-12                                          me too :)     1   \n",
       "2012-04-13  [AMZN earnings on 4/26](http://www.sys-con.com...     1   \n",
       "2012-04-16  What time is earnings release?  If options pre...     1   \n",
       "2012-04-17  Actually, this morning I was going to buy OTM ...     1   \n",
       "\n",
       "            negative_score  positive_score  neutral_score  compound_score  \\\n",
       "Date                                                                        \n",
       "2012-04-11           0.101           0.000          0.899         -0.4472   \n",
       "2012-04-12           0.000           0.600          0.400          0.4588   \n",
       "2012-04-13           0.000           0.000          1.000          0.0000   \n",
       "2012-04-16           0.000           0.246          0.754          0.8172   \n",
       "2012-04-17           0.068           0.045          0.887         -0.1027   \n",
       "\n",
       "           final_tag  Target_Variable  \n",
       "Date                                   \n",
       "2012-04-11  negative              1.0  \n",
       "2012-04-12  positive              1.0  \n",
       "2012-04-13   neutral              0.0  \n",
       "2012-04-16  positive              0.0  \n",
       "2012-04-17  negative              1.0  "
      ]
     },
     "execution_count": 96,
     "metadata": {},
     "output_type": "execute_result"
    }
   ],
   "source": [
    "Merged_Data=Merged_Data.set_index(\"Date\")\n",
    "Merged_Data.head()"
   ]
  },
  {
   "cell_type": "code",
   "execution_count": 97,
   "metadata": {},
   "outputs": [
    {
     "data": {
      "text/plain": [
       "(1637, 13)"
      ]
     },
     "execution_count": 97,
     "metadata": {},
     "output_type": "execute_result"
    }
   ],
   "source": [
    "Merged_Data.shape"
   ]
  },
  {
   "cell_type": "code",
   "execution_count": 98,
   "metadata": {},
   "outputs": [],
   "source": [
    "Merged_Data=Merged_Data[['Open','High','Low','Close','Volume','score','final_tag','Target_Variable']]"
   ]
  },
  {
   "cell_type": "code",
   "execution_count": 99,
   "metadata": {},
   "outputs": [
    {
     "data": {
      "text/html": [
       "<div>\n",
       "<style scoped>\n",
       "    .dataframe tbody tr th:only-of-type {\n",
       "        vertical-align: middle;\n",
       "    }\n",
       "\n",
       "    .dataframe tbody tr th {\n",
       "        vertical-align: top;\n",
       "    }\n",
       "\n",
       "    .dataframe thead th {\n",
       "        text-align: right;\n",
       "    }\n",
       "</style>\n",
       "<table border=\"1\" class=\"dataframe\">\n",
       "  <thead>\n",
       "    <tr style=\"text-align: right;\">\n",
       "      <th></th>\n",
       "      <th>Open</th>\n",
       "      <th>High</th>\n",
       "      <th>Low</th>\n",
       "      <th>Close</th>\n",
       "      <th>Volume</th>\n",
       "      <th>score</th>\n",
       "      <th>final_tag</th>\n",
       "      <th>Target_Variable</th>\n",
       "    </tr>\n",
       "    <tr>\n",
       "      <th>Date</th>\n",
       "      <th></th>\n",
       "      <th></th>\n",
       "      <th></th>\n",
       "      <th></th>\n",
       "      <th></th>\n",
       "      <th></th>\n",
       "      <th></th>\n",
       "      <th></th>\n",
       "    </tr>\n",
       "  </thead>\n",
       "  <tbody>\n",
       "    <tr>\n",
       "      <th>2012-04-11</th>\n",
       "      <td>1358.98</td>\n",
       "      <td>1374.71</td>\n",
       "      <td>1358.98</td>\n",
       "      <td>1368.70</td>\n",
       "      <td>593003200</td>\n",
       "      <td>1</td>\n",
       "      <td>negative</td>\n",
       "      <td>1.0</td>\n",
       "    </tr>\n",
       "    <tr>\n",
       "      <th>2012-04-12</th>\n",
       "      <td>1368.77</td>\n",
       "      <td>1388.13</td>\n",
       "      <td>1368.77</td>\n",
       "      <td>1387.56</td>\n",
       "      <td>547368832</td>\n",
       "      <td>1</td>\n",
       "      <td>positive</td>\n",
       "      <td>1.0</td>\n",
       "    </tr>\n",
       "    <tr>\n",
       "      <th>2012-04-13</th>\n",
       "      <td>1387.61</td>\n",
       "      <td>1387.61</td>\n",
       "      <td>1369.85</td>\n",
       "      <td>1370.26</td>\n",
       "      <td>631237824</td>\n",
       "      <td>1</td>\n",
       "      <td>neutral</td>\n",
       "      <td>0.0</td>\n",
       "    </tr>\n",
       "    <tr>\n",
       "      <th>2012-04-16</th>\n",
       "      <td>1370.27</td>\n",
       "      <td>1379.66</td>\n",
       "      <td>1365.38</td>\n",
       "      <td>1369.57</td>\n",
       "      <td>596952128</td>\n",
       "      <td>1</td>\n",
       "      <td>positive</td>\n",
       "      <td>0.0</td>\n",
       "    </tr>\n",
       "    <tr>\n",
       "      <th>2012-04-17</th>\n",
       "      <td>1369.57</td>\n",
       "      <td>1392.76</td>\n",
       "      <td>1369.57</td>\n",
       "      <td>1390.78</td>\n",
       "      <td>566529216</td>\n",
       "      <td>1</td>\n",
       "      <td>negative</td>\n",
       "      <td>1.0</td>\n",
       "    </tr>\n",
       "  </tbody>\n",
       "</table>\n",
       "</div>"
      ],
      "text/plain": [
       "               Open     High      Low    Close     Volume score final_tag  \\\n",
       "Date                                                                        \n",
       "2012-04-11  1358.98  1374.71  1358.98  1368.70  593003200     1  negative   \n",
       "2012-04-12  1368.77  1388.13  1368.77  1387.56  547368832     1  positive   \n",
       "2012-04-13  1387.61  1387.61  1369.85  1370.26  631237824     1   neutral   \n",
       "2012-04-16  1370.27  1379.66  1365.38  1369.57  596952128     1  positive   \n",
       "2012-04-17  1369.57  1392.76  1369.57  1390.78  566529216     1  negative   \n",
       "\n",
       "            Target_Variable  \n",
       "Date                         \n",
       "2012-04-11              1.0  \n",
       "2012-04-12              1.0  \n",
       "2012-04-13              0.0  \n",
       "2012-04-16              0.0  \n",
       "2012-04-17              1.0  "
      ]
     },
     "execution_count": 99,
     "metadata": {},
     "output_type": "execute_result"
    }
   ],
   "source": [
    "Merged_Data.head()"
   ]
  },
  {
   "cell_type": "code",
   "execution_count": 100,
   "metadata": {},
   "outputs": [
    {
     "data": {
      "text/plain": [
       "DatetimeIndex(['2012-04-11', '2012-04-12', '2012-04-13', '2012-04-16',\n",
       "               '2012-04-17', '2012-04-19', '2012-04-20', '2012-04-23',\n",
       "               '2012-04-24', '2012-04-25',\n",
       "               ...\n",
       "               '2018-10-18', '2018-10-19', '2018-10-22', '2018-10-23',\n",
       "               '2018-10-24', '2018-10-25', '2018-10-26', '2018-10-29',\n",
       "               '2018-10-30', '2018-10-31'],\n",
       "              dtype='datetime64[ns]', name='Date', length=1637, freq=None)"
      ]
     },
     "execution_count": 100,
     "metadata": {},
     "output_type": "execute_result"
    }
   ],
   "source": [
    "Merged_Data.index"
   ]
  },
  {
   "cell_type": "code",
   "execution_count": 101,
   "metadata": {},
   "outputs": [
    {
     "data": {
      "image/png": "[encoded data removed]",
      "text/plain": [
       "<Figure size 800x575 with 2 Axes>"
      ]
     },
     "metadata": {},
     "output_type": "display_data"
    }
   ],
   "source": [
    "mpf.plot(Merged_Data,type=\"line\")"
   ]
  },
  {
   "cell_type": "code",
   "execution_count": 102,
   "metadata": {},
   "outputs": [
    {
     "data": {
      "image/png": "[encoded data removed]",
      "text/plain": [
       "<Figure size 800x575 with 2 Axes>"
      ]
     },
     "metadata": {},
     "output_type": "display_data"
    }
   ],
   "source": [
    "mpf.plot(Merged_Data['2012-04-11':'2013'])"
   ]
  },
  {
   "cell_type": "code",
   "execution_count": 103,
   "metadata": {},
   "outputs": [
    {
     "data": {
      "image/png": "[encoded data removed]",
      "text/plain": [
       "<Figure size 800x575 with 2 Axes>"
      ]
     },
     "metadata": {},
     "output_type": "display_data"
    }
   ],
   "source": [
    "#january Data\n",
    "mpf.plot(Merged_Data['2018-01'])"
   ]
  },
  {
   "cell_type": "markdown",
   "metadata": {},
   "source": [
    "####  Line Chart "
   ]
  },
  {
   "cell_type": "code",
   "execution_count": 104,
   "metadata": {},
   "outputs": [
    {
     "data": {
      "image/png": "[encoded data removed]",
      "text/plain": [
       "<Figure size 800x575 with 2 Axes>"
      ]
     },
     "metadata": {},
     "output_type": "display_data"
    }
   ],
   "source": [
    "mpf.plot(Merged_Data['2012'],type=\"line\")"
   ]
  },
  {
   "cell_type": "code",
   "execution_count": 105,
   "metadata": {},
   "outputs": [
    {
     "data": {
      "image/png": "[encoded data removed]",
      "text/plain": [
       "<Figure size 800x575 with 2 Axes>"
      ]
     },
     "metadata": {},
     "output_type": "display_data"
    }
   ],
   "source": [
    "mpf.plot(Merged_Data['2018-01'],type=\"candle\")"
   ]
  },
  {
   "cell_type": "code",
   "execution_count": 106,
   "metadata": {},
   "outputs": [
    {
     "data": {
      "image/png": "[encoded data removed]",
      "text/plain": [
       "<Figure size 800x575 with 4 Axes>"
      ]
     },
     "metadata": {},
     "output_type": "display_data"
    },
    {
     "data": {
      "text/plain": [
       "<Figure size 2000x1000 with 0 Axes>"
      ]
     },
     "execution_count": 106,
     "metadata": {},
     "output_type": "execute_result"
    },
    {
     "data": {
      "text/plain": [
       "<Figure size 2000x1000 with 0 Axes>"
      ]
     },
     "metadata": {},
     "output_type": "display_data"
    }
   ],
   "source": [
    "mpf.plot(Merged_Data['2012-04'],type=\"candle\",volume=True)\n",
    "plt.figure(figsize=(20,10))"
   ]
  },
  {
   "cell_type": "code",
   "execution_count": null,
   "metadata": {},
   "outputs": [],
   "source": []
  },
  {
   "cell_type": "code",
   "execution_count": null,
   "metadata": {},
   "outputs": [],
   "source": []
  },
  {
   "cell_type": "code",
   "execution_count": null,
   "metadata": {},
   "outputs": [],
   "source": []
  },
  {
   "cell_type": "code",
   "execution_count": null,
   "metadata": {},
   "outputs": [],
   "source": []
  },
  {
   "cell_type": "code",
   "execution_count": null,
   "metadata": {},
   "outputs": [],
   "source": []
  },
  {
   "cell_type": "code",
   "execution_count": null,
   "metadata": {},
   "outputs": [],
   "source": []
  },
  {
   "cell_type": "code",
   "execution_count": null,
   "metadata": {},
   "outputs": [],
   "source": []
  },
  {
   "cell_type": "code",
   "execution_count": null,
   "metadata": {},
   "outputs": [],
   "source": []
  },
  {
   "cell_type": "code",
   "execution_count": null,
   "metadata": {},
   "outputs": [],
   "source": []
  },
  {
   "cell_type": "code",
   "execution_count": null,
   "metadata": {},
   "outputs": [],
   "source": []
  },
  {
   "cell_type": "code",
   "execution_count": null,
   "metadata": {},
   "outputs": [],
   "source": []
  }
 ],
 "metadata": {
  "kernelspec": {
   "display_name": "Python 3 (ipykernel)",
   "language": "python",
   "name": "python3"
  },
  "language_info": {
   "codemirror_mode": {
    "name": "ipython",
    "version": 3
   },
   "file_extension": ".py",
   "mimetype": "text/x-python",
   "name": "python",
   "nbconvert_exporter": "python",
   "pygments_lexer": "ipython3",
   "version": "3.8.10"
  }
 },
 "nbformat": 4,
 "nbformat_minor": 4
}
